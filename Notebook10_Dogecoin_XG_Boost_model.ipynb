{
 "cells": [
  {
   "cell_type": "markdown",
   "metadata": {},
   "source": [
    "## News Sentiment Analysis and Crypto price prediction"
   ]
  },
  {
   "cell_type": "raw",
   "metadata": {},
   "source": [
    "Predict the price trend of Dogecoin and Bitcoin basis their historical prices and News Sentiment analysis. In terms of Machine learning models, we explored CLassification Models as well as Regression models to evaluate which is a more effective methodology.\n",
    "\n",
    "We have used 4 types of Machine learning models :\n",
    "\n",
    "Classification Models :\n",
    "a) Logistic Regression\n",
    "b) Random ForestClassifier\n",
    "\n",
    "Regression Models :\n",
    "a) LSTM RNN - Basis sentiment analysis\n",
    "b) XG Boost Model (New model explored)"
   ]
  },
  {
   "cell_type": "code",
   "execution_count": null,
   "metadata": {},
   "outputs": [],
   "source": [
    "# Book 10 - Dogecoin - XG Boost Regressor Model"
   ]
  },
  {
   "cell_type": "code",
   "execution_count": null,
   "metadata": {},
   "outputs": [],
   "source": [
    "#Importing Libraries\n",
    "import numpy as np\n",
    "import pandas as pd\n",
    "import hvplot.pandas\n",
    "from xgboost import XGBRegressor\n",
    "%matplotlib inline\n",
    "from sklearn import metrics"
   ]
  },
  {
   "cell_type": "code",
   "execution_count": 2,
   "metadata": {},
   "outputs": [
    {
     "data": {
      "text/html": [
       "<div>\n",
       "<style scoped>\n",
       "    .dataframe tbody tr th:only-of-type {\n",
       "        vertical-align: middle;\n",
       "    }\n",
       "\n",
       "    .dataframe tbody tr th {\n",
       "        vertical-align: top;\n",
       "    }\n",
       "\n",
       "    .dataframe thead th {\n",
       "        text-align: right;\n",
       "    }\n",
       "</style>\n",
       "<table border=\"1\" class=\"dataframe\">\n",
       "  <thead>\n",
       "    <tr style=\"text-align: right;\">\n",
       "      <th></th>\n",
       "      <th>title_sent</th>\n",
       "      <th>text_sent</th>\n",
       "      <th>Open</th>\n",
       "      <th>High</th>\n",
       "      <th>Low</th>\n",
       "      <th>Close</th>\n",
       "      <th>Adj Close</th>\n",
       "      <th>Volume</th>\n",
       "    </tr>\n",
       "    <tr>\n",
       "      <th>Date</th>\n",
       "      <th></th>\n",
       "      <th></th>\n",
       "      <th></th>\n",
       "      <th></th>\n",
       "      <th></th>\n",
       "      <th></th>\n",
       "      <th></th>\n",
       "      <th></th>\n",
       "    </tr>\n",
       "  </thead>\n",
       "  <tbody>\n",
       "    <tr>\n",
       "      <th>2022-03-06</th>\n",
       "      <td>0.0</td>\n",
       "      <td>-1.0</td>\n",
       "      <td>0.125025</td>\n",
       "      <td>0.125611</td>\n",
       "      <td>0.120384</td>\n",
       "      <td>0.120766</td>\n",
       "      <td>0.120766</td>\n",
       "      <td>400458464.0</td>\n",
       "    </tr>\n",
       "    <tr>\n",
       "      <th>2022-03-07</th>\n",
       "      <td>-1.0</td>\n",
       "      <td>-1.0</td>\n",
       "      <td>0.120769</td>\n",
       "      <td>0.122563</td>\n",
       "      <td>0.115015</td>\n",
       "      <td>0.117105</td>\n",
       "      <td>0.117105</td>\n",
       "      <td>513014829.0</td>\n",
       "    </tr>\n",
       "    <tr>\n",
       "      <th>2022-03-08</th>\n",
       "      <td>0.0</td>\n",
       "      <td>0.0</td>\n",
       "      <td>0.117106</td>\n",
       "      <td>0.119724</td>\n",
       "      <td>0.115838</td>\n",
       "      <td>0.117029</td>\n",
       "      <td>0.117029</td>\n",
       "      <td>491414294.0</td>\n",
       "    </tr>\n",
       "    <tr>\n",
       "      <th>2022-03-09</th>\n",
       "      <td>0.0</td>\n",
       "      <td>-1.0</td>\n",
       "      <td>0.117047</td>\n",
       "      <td>0.123734</td>\n",
       "      <td>0.116766</td>\n",
       "      <td>0.121588</td>\n",
       "      <td>0.121588</td>\n",
       "      <td>519157507.0</td>\n",
       "    </tr>\n",
       "    <tr>\n",
       "      <th>2022-03-10</th>\n",
       "      <td>-1.0</td>\n",
       "      <td>0.0</td>\n",
       "      <td>NaN</td>\n",
       "      <td>NaN</td>\n",
       "      <td>NaN</td>\n",
       "      <td>NaN</td>\n",
       "      <td>NaN</td>\n",
       "      <td>NaN</td>\n",
       "    </tr>\n",
       "  </tbody>\n",
       "</table>\n",
       "</div>"
      ],
      "text/plain": [
       "            title_sent  text_sent      Open      High       Low     Close  \\\n",
       "Date                                                                        \n",
       "2022-03-06         0.0       -1.0  0.125025  0.125611  0.120384  0.120766   \n",
       "2022-03-07        -1.0       -1.0  0.120769  0.122563  0.115015  0.117105   \n",
       "2022-03-08         0.0        0.0  0.117106  0.119724  0.115838  0.117029   \n",
       "2022-03-09         0.0       -1.0  0.117047  0.123734  0.116766  0.121588   \n",
       "2022-03-10        -1.0        0.0       NaN       NaN       NaN       NaN   \n",
       "\n",
       "            Adj Close       Volume  \n",
       "Date                                \n",
       "2022-03-06   0.120766  400458464.0  \n",
       "2022-03-07   0.117105  513014829.0  \n",
       "2022-03-08   0.117029  491414294.0  \n",
       "2022-03-09   0.121588  519157507.0  \n",
       "2022-03-10        NaN          NaN  "
      ]
     },
     "execution_count": 2,
     "metadata": {},
     "output_type": "execute_result"
    }
   ],
   "source": [
    "# Load the news sentiment data and closing prices for Dogecoin\n",
    "xgbr_df = pd.read_csv('sentiment_closing_doge.csv', index_col=\"Date\", infer_datetime_format=True, parse_dates=True)\n",
    "xgbr_df.tail()"
   ]
  },
  {
   "cell_type": "code",
   "execution_count": 33,
   "metadata": {},
   "outputs": [
    {
     "data": {
      "text/html": [
       "<div>\n",
       "<style scoped>\n",
       "    .dataframe tbody tr th:only-of-type {\n",
       "        vertical-align: middle;\n",
       "    }\n",
       "\n",
       "    .dataframe tbody tr th {\n",
       "        vertical-align: top;\n",
       "    }\n",
       "\n",
       "    .dataframe thead th {\n",
       "        text-align: right;\n",
       "    }\n",
       "</style>\n",
       "<table border=\"1\" class=\"dataframe\">\n",
       "  <thead>\n",
       "    <tr style=\"text-align: right;\">\n",
       "      <th></th>\n",
       "      <th>title_sent</th>\n",
       "      <th>Close</th>\n",
       "      <th>Volume</th>\n",
       "    </tr>\n",
       "    <tr>\n",
       "      <th>Date</th>\n",
       "      <th></th>\n",
       "      <th></th>\n",
       "      <th></th>\n",
       "    </tr>\n",
       "  </thead>\n",
       "  <tbody>\n",
       "    <tr>\n",
       "      <th>2022-02-10</th>\n",
       "      <td>0.0</td>\n",
       "      <td>0.151889</td>\n",
       "      <td>1.053631e+09</td>\n",
       "    </tr>\n",
       "    <tr>\n",
       "      <th>2022-02-11</th>\n",
       "      <td>0.0</td>\n",
       "      <td>0.144847</td>\n",
       "      <td>7.767306e+08</td>\n",
       "    </tr>\n",
       "    <tr>\n",
       "      <th>2022-02-12</th>\n",
       "      <td>0.0</td>\n",
       "      <td>0.144405</td>\n",
       "      <td>6.026994e+08</td>\n",
       "    </tr>\n",
       "    <tr>\n",
       "      <th>2022-02-13</th>\n",
       "      <td>0.0</td>\n",
       "      <td>0.148948</td>\n",
       "      <td>1.581065e+09</td>\n",
       "    </tr>\n",
       "    <tr>\n",
       "      <th>2022-02-14</th>\n",
       "      <td>0.0</td>\n",
       "      <td>0.146003</td>\n",
       "      <td>8.980427e+08</td>\n",
       "    </tr>\n",
       "  </tbody>\n",
       "</table>\n",
       "</div>"
      ],
      "text/plain": [
       "            title_sent     Close        Volume\n",
       "Date                                          \n",
       "2022-02-10         0.0  0.151889  1.053631e+09\n",
       "2022-02-11         0.0  0.144847  7.767306e+08\n",
       "2022-02-12         0.0  0.144405  6.026994e+08\n",
       "2022-02-13         0.0  0.148948  1.581065e+09\n",
       "2022-02-14         0.0  0.146003  8.980427e+08"
      ]
     },
     "execution_count": 33,
     "metadata": {},
     "output_type": "execute_result"
    }
   ],
   "source": [
    "# Choosing only the Relevant Columns and dropping the others\n",
    "xgbr_df = xgbr_df.drop(columns=[\"Open\", \"High\", \"Low\", \"Adj Close\", \"text_sent\"])\n",
    "\n",
    "xgbr_df.head()"
   ]
  },
  {
   "cell_type": "code",
   "execution_count": 34,
   "metadata": {},
   "outputs": [
    {
     "data": {
      "text/html": [
       "<div>\n",
       "<style scoped>\n",
       "    .dataframe tbody tr th:only-of-type {\n",
       "        vertical-align: middle;\n",
       "    }\n",
       "\n",
       "    .dataframe tbody tr th {\n",
       "        vertical-align: top;\n",
       "    }\n",
       "\n",
       "    .dataframe thead th {\n",
       "        text-align: right;\n",
       "    }\n",
       "</style>\n",
       "<table border=\"1\" class=\"dataframe\">\n",
       "  <thead>\n",
       "    <tr style=\"text-align: right;\">\n",
       "      <th></th>\n",
       "      <th>Close</th>\n",
       "      <th>title_sent</th>\n",
       "      <th>Volume</th>\n",
       "    </tr>\n",
       "    <tr>\n",
       "      <th>Date</th>\n",
       "      <th></th>\n",
       "      <th></th>\n",
       "      <th></th>\n",
       "    </tr>\n",
       "  </thead>\n",
       "  <tbody>\n",
       "    <tr>\n",
       "      <th>2022-02-10</th>\n",
       "      <td>0.151889</td>\n",
       "      <td>0.0</td>\n",
       "      <td>1.053631e+09</td>\n",
       "    </tr>\n",
       "    <tr>\n",
       "      <th>2022-02-11</th>\n",
       "      <td>0.144847</td>\n",
       "      <td>0.0</td>\n",
       "      <td>7.767306e+08</td>\n",
       "    </tr>\n",
       "    <tr>\n",
       "      <th>2022-02-12</th>\n",
       "      <td>0.144405</td>\n",
       "      <td>0.0</td>\n",
       "      <td>6.026994e+08</td>\n",
       "    </tr>\n",
       "    <tr>\n",
       "      <th>2022-02-13</th>\n",
       "      <td>0.148948</td>\n",
       "      <td>0.0</td>\n",
       "      <td>1.581065e+09</td>\n",
       "    </tr>\n",
       "    <tr>\n",
       "      <th>2022-02-14</th>\n",
       "      <td>0.146003</td>\n",
       "      <td>0.0</td>\n",
       "      <td>8.980427e+08</td>\n",
       "    </tr>\n",
       "  </tbody>\n",
       "</table>\n",
       "</div>"
      ],
      "text/plain": [
       "               Close  title_sent        Volume\n",
       "Date                                          \n",
       "2022-02-10  0.151889         0.0  1.053631e+09\n",
       "2022-02-11  0.144847         0.0  7.767306e+08\n",
       "2022-02-12  0.144405         0.0  6.026994e+08\n",
       "2022-02-13  0.148948         0.0  1.581065e+09\n",
       "2022-02-14  0.146003         0.0  8.980427e+08"
      ]
     },
     "execution_count": 34,
     "metadata": {},
     "output_type": "execute_result"
    }
   ],
   "source": [
    "# Repositioning the columns\n",
    "xgbr_df = xgbr_df[[\"Close\", \"title_sent\", \"Volume\"]]\n",
    "xgbr_df.head()"
   ]
  },
  {
   "cell_type": "code",
   "execution_count": 35,
   "metadata": {},
   "outputs": [
    {
     "data": {
      "text/html": [
       "<div>\n",
       "<style scoped>\n",
       "    .dataframe tbody tr th:only-of-type {\n",
       "        vertical-align: middle;\n",
       "    }\n",
       "\n",
       "    .dataframe tbody tr th {\n",
       "        vertical-align: top;\n",
       "    }\n",
       "\n",
       "    .dataframe thead th {\n",
       "        text-align: right;\n",
       "    }\n",
       "</style>\n",
       "<table border=\"1\" class=\"dataframe\">\n",
       "  <thead>\n",
       "    <tr style=\"text-align: right;\">\n",
       "      <th></th>\n",
       "      <th>Close</th>\n",
       "      <th>title_sent</th>\n",
       "      <th>Volume</th>\n",
       "      <th>Pct_change</th>\n",
       "    </tr>\n",
       "    <tr>\n",
       "      <th>Date</th>\n",
       "      <th></th>\n",
       "      <th></th>\n",
       "      <th></th>\n",
       "      <th></th>\n",
       "    </tr>\n",
       "  </thead>\n",
       "  <tbody>\n",
       "    <tr>\n",
       "      <th>2022-02-10</th>\n",
       "      <td>0.151889</td>\n",
       "      <td>0.0</td>\n",
       "      <td>1.053631e+09</td>\n",
       "      <td>NaN</td>\n",
       "    </tr>\n",
       "    <tr>\n",
       "      <th>2022-02-11</th>\n",
       "      <td>0.144847</td>\n",
       "      <td>0.0</td>\n",
       "      <td>7.767306e+08</td>\n",
       "      <td>-0.046363</td>\n",
       "    </tr>\n",
       "    <tr>\n",
       "      <th>2022-02-12</th>\n",
       "      <td>0.144405</td>\n",
       "      <td>0.0</td>\n",
       "      <td>6.026994e+08</td>\n",
       "      <td>-0.003051</td>\n",
       "    </tr>\n",
       "    <tr>\n",
       "      <th>2022-02-13</th>\n",
       "      <td>0.148948</td>\n",
       "      <td>0.0</td>\n",
       "      <td>1.581065e+09</td>\n",
       "      <td>0.031460</td>\n",
       "    </tr>\n",
       "    <tr>\n",
       "      <th>2022-02-14</th>\n",
       "      <td>0.146003</td>\n",
       "      <td>0.0</td>\n",
       "      <td>8.980427e+08</td>\n",
       "      <td>-0.019772</td>\n",
       "    </tr>\n",
       "  </tbody>\n",
       "</table>\n",
       "</div>"
      ],
      "text/plain": [
       "               Close  title_sent        Volume  Pct_change\n",
       "Date                                                      \n",
       "2022-02-10  0.151889         0.0  1.053631e+09         NaN\n",
       "2022-02-11  0.144847         0.0  7.767306e+08   -0.046363\n",
       "2022-02-12  0.144405         0.0  6.026994e+08   -0.003051\n",
       "2022-02-13  0.148948         0.0  1.581065e+09    0.031460\n",
       "2022-02-14  0.146003         0.0  8.980427e+08   -0.019772"
      ]
     },
     "execution_count": 35,
     "metadata": {},
     "output_type": "execute_result"
    }
   ],
   "source": [
    "# pct change based on close value\n",
    "xgbr_df[\"Pct_change\"] = xgbr_df[\"Close\"].pct_change()\n",
    "xgbr_df.head()"
   ]
  },
  {
   "cell_type": "code",
   "execution_count": 36,
   "metadata": {},
   "outputs": [
    {
     "data": {
      "text/html": [
       "<div>\n",
       "<style scoped>\n",
       "    .dataframe tbody tr th:only-of-type {\n",
       "        vertical-align: middle;\n",
       "    }\n",
       "\n",
       "    .dataframe tbody tr th {\n",
       "        vertical-align: top;\n",
       "    }\n",
       "\n",
       "    .dataframe thead th {\n",
       "        text-align: right;\n",
       "    }\n",
       "</style>\n",
       "<table border=\"1\" class=\"dataframe\">\n",
       "  <thead>\n",
       "    <tr style=\"text-align: right;\">\n",
       "      <th></th>\n",
       "      <th>Close</th>\n",
       "      <th>title_sent</th>\n",
       "      <th>Volume</th>\n",
       "      <th>Pct_change</th>\n",
       "    </tr>\n",
       "    <tr>\n",
       "      <th>Date</th>\n",
       "      <th></th>\n",
       "      <th></th>\n",
       "      <th></th>\n",
       "      <th></th>\n",
       "    </tr>\n",
       "  </thead>\n",
       "  <tbody>\n",
       "    <tr>\n",
       "      <th>2022-03-05</th>\n",
       "      <td>0.124996</td>\n",
       "      <td>-1.0</td>\n",
       "      <td>334091552.0</td>\n",
       "      <td>0.019618</td>\n",
       "    </tr>\n",
       "    <tr>\n",
       "      <th>2022-03-06</th>\n",
       "      <td>0.120766</td>\n",
       "      <td>0.0</td>\n",
       "      <td>400458464.0</td>\n",
       "      <td>-0.033841</td>\n",
       "    </tr>\n",
       "    <tr>\n",
       "      <th>2022-03-07</th>\n",
       "      <td>0.117105</td>\n",
       "      <td>-1.0</td>\n",
       "      <td>513014829.0</td>\n",
       "      <td>-0.030315</td>\n",
       "    </tr>\n",
       "    <tr>\n",
       "      <th>2022-03-08</th>\n",
       "      <td>0.117029</td>\n",
       "      <td>0.0</td>\n",
       "      <td>491414294.0</td>\n",
       "      <td>-0.000649</td>\n",
       "    </tr>\n",
       "    <tr>\n",
       "      <th>2022-03-09</th>\n",
       "      <td>0.121588</td>\n",
       "      <td>0.0</td>\n",
       "      <td>519157507.0</td>\n",
       "      <td>0.038956</td>\n",
       "    </tr>\n",
       "  </tbody>\n",
       "</table>\n",
       "</div>"
      ],
      "text/plain": [
       "               Close  title_sent       Volume  Pct_change\n",
       "Date                                                     \n",
       "2022-03-05  0.124996        -1.0  334091552.0    0.019618\n",
       "2022-03-06  0.120766         0.0  400458464.0   -0.033841\n",
       "2022-03-07  0.117105        -1.0  513014829.0   -0.030315\n",
       "2022-03-08  0.117029         0.0  491414294.0   -0.000649\n",
       "2022-03-09  0.121588         0.0  519157507.0    0.038956"
      ]
     },
     "execution_count": 36,
     "metadata": {},
     "output_type": "execute_result"
    }
   ],
   "source": [
    "# Drop null values\n",
    "xgbr_df.dropna(inplace = True)\n",
    "xgbr_df.tail()"
   ]
  },
  {
   "cell_type": "markdown",
   "metadata": {},
   "source": [
    "### Creating the Features `X` and Target `y` Data"
   ]
  },
  {
   "cell_type": "code",
   "execution_count": 39,
   "metadata": {},
   "outputs": [],
   "source": [
    "# This function \"window_data\" accepts the column number for the features (X) and the target (y)\n",
    "# It chunks the data up with a rolling window of Xt-n to predict Xt\n",
    "# It returns a numpy array of X any y\n",
    "def window_data(df, window, feature_col_number1, feature_col_number2, feature_col_number3, target_col_number):\n",
    "    # Create empty lists \"X_close\", \"title_sent\", \"Volume\" and y\n",
    "    X_close = []\n",
    "    X_title_sent = []\n",
    "    X_volume = []\n",
    "    y = []\n",
    "    for i in range(len(df) - window):\n",
    "        \n",
    "        # Get close, title_sent, Volume, and target in the loop\n",
    "        Close = df.iloc[i:(i + window), feature_col_number1]\n",
    "        title_sent = df.iloc[i:(i + window), feature_col_number2]\n",
    "        Volume = df.iloc[i:(i + window), feature_col_number3]\n",
    "        target = df.iloc[(i + window), target_col_number]\n",
    "        \n",
    "        # Append values in the lists\n",
    "        X_close.append(Close)\n",
    "        X_title_sent.append(title_sent)\n",
    "        X_volume.append(Volume)\n",
    "        y.append(target)\n",
    "        \n",
    "    return np.hstack((X_close,X_title_sent,X_volume)), np.array(y).reshape(-1, 1)"
   ]
  },
  {
   "cell_type": "code",
   "execution_count": 40,
   "metadata": {},
   "outputs": [],
   "source": [
    "# Predict Closing Prices using a 3 day window of previous closing prices\n",
    "window_size = 3\n",
    "\n",
    "# Column index 0 is the `Close` column\n",
    "# Column index 1 is the `title_sent` column\n",
    "# Column index 2 is the `Volume` column\n",
    "feature_col_number1 = 0\n",
    "feature_col_number2 = 1\n",
    "feature_col_number3 = 2\n",
    "target_col_number = 0\n",
    "X, y = window_data(xgbr_df, window_size, feature_col_number1, feature_col_number2, feature_col_number3, target_col_number)"
   ]
  },
  {
   "cell_type": "code",
   "execution_count": 41,
   "metadata": {},
   "outputs": [],
   "source": [
    "# Use 70% of the data for training and 30% for testing\n",
    "X_split = int(0.7 * len(X))\n",
    "y_split = int(0.7 * len(y))\n",
    "\n",
    "# Set X_train, X_test, y_train, t_test\n",
    "X_train = X[: X_split]\n",
    "X_test = X[X_split:]\n",
    "y_train = y[: y_split]\n",
    "y_test = y[y_split:]"
   ]
  },
  {
   "cell_type": "markdown",
   "metadata": {},
   "source": [
    "# Scaling Data with `MinMaxScaler`\n",
    "\n",
    "We will use the `MinMaxScaler` from `sklearn` to scale all values between `0` and `1`.\n",
    "Note that we scale both features and target sets."
   ]
  },
  {
   "cell_type": "code",
   "execution_count": 42,
   "metadata": {},
   "outputs": [],
   "source": [
    "from sklearn.preprocessing import MinMaxScaler"
   ]
  },
  {
   "cell_type": "code",
   "execution_count": 43,
   "metadata": {},
   "outputs": [],
   "source": [
    "# Use the MinMaxScaler to scale data between 0 and 1.\n",
    "x_train_scaler = MinMaxScaler()\n",
    "x_test_scaler = MinMaxScaler()\n",
    "y_train_scaler = MinMaxScaler()\n",
    "y_test_scaler = MinMaxScaler()\n",
    "\n",
    "# Fit the scaler for the Training Data\n",
    "x_train_scaler.fit(X_train)\n",
    "y_train_scaler.fit(y_train)\n",
    "\n",
    "# Scale the training data\n",
    "X_train = x_train_scaler.transform(X_train)\n",
    "y_train = y_train_scaler.transform(y_train)\n",
    "\n",
    "# Fit the scaler for the Testing Data\n",
    "x_test_scaler.fit(X_test)\n",
    "y_test_scaler.fit(y_test)\n",
    "\n",
    "# Scale the y_test data\n",
    "X_test = x_test_scaler.transform(X_test)\n",
    "y_test = y_test_scaler.transform(y_test)"
   ]
  },
  {
   "cell_type": "code",
   "execution_count": 44,
   "metadata": {},
   "outputs": [],
   "source": [
    "# Create the XG Boost regressor instance\n",
    "model = XGBRegressor(objective='reg:squarederror', n_estimators=1000)"
   ]
  },
  {
   "cell_type": "code",
   "execution_count": 45,
   "metadata": {},
   "outputs": [
    {
     "data": {
      "text/plain": [
       "XGBRegressor(base_score=0.5, booster='gbtree', colsample_bylevel=1,\n",
       "             colsample_bynode=1, colsample_bytree=1, enable_categorical=False,\n",
       "             gamma=0, gpu_id=-1, importance_type=None,\n",
       "             interaction_constraints='', learning_rate=0.300000012,\n",
       "             max_delta_step=0, max_depth=6, min_child_weight=1, missing=nan,\n",
       "             monotone_constraints='()', n_estimators=1000, n_jobs=12,\n",
       "             num_parallel_tree=1, predictor='auto', random_state=0, reg_alpha=0,\n",
       "             reg_lambda=1, scale_pos_weight=1, subsample=1, tree_method='exact',\n",
       "             validate_parameters=1, verbosity=None)"
      ]
     },
     "execution_count": 45,
     "metadata": {},
     "output_type": "execute_result"
    }
   ],
   "source": [
    "# Fit the model\n",
    "model.fit(X_train, y_train.ravel())"
   ]
  },
  {
   "cell_type": "markdown",
   "metadata": {},
   "source": [
    "---"
   ]
  },
  {
   "cell_type": "markdown",
   "metadata": {},
   "source": [
    "---"
   ]
  },
  {
   "cell_type": "markdown",
   "metadata": {},
   "source": [
    "## Model Performance\n",
    "\n",
    "In this section, we will evaluate the model using the test data. \n",
    "\n",
    "We will:\n",
    "1. Evaluate the model using the `X_test` and `y_test` data.\n",
    "2. Use the X_test data to make predictions\n",
    "3. Create a DataFrame of Real (y_test) vs predicted values. \n",
    "4. Plot the Real vs predicted values as a line chart\n"
   ]
  },
  {
   "cell_type": "code",
   "execution_count": 46,
   "metadata": {},
   "outputs": [],
   "source": [
    "# Make some predictions\n",
    "predicted = model.predict(X_test)"
   ]
  },
  {
   "cell_type": "code",
   "execution_count": 47,
   "metadata": {},
   "outputs": [
    {
     "name": "stdout",
     "output_type": "stream",
     "text": [
      "Root Mean Squared Error: 0.2466110859515458\n",
      "R-squared : 0.4470051306651013\n"
     ]
    }
   ],
   "source": [
    "# Evaluating the model\n",
    "print('Root Mean Squared Error:', np.sqrt(metrics.mean_squared_error(y_test, predicted)))\n",
    "print('R-squared :', metrics.r2_score(y_test, predicted))"
   ]
  },
  {
   "cell_type": "code",
   "execution_count": 48,
   "metadata": {},
   "outputs": [],
   "source": [
    "# Recover the original prices instead of the scaled version\n",
    "predicted_prices = y_test_scaler.inverse_transform(predicted.reshape(-1, 1))\n",
    "real_prices = y_test_scaler.inverse_transform(y_test.reshape(-1, 1))"
   ]
  },
  {
   "cell_type": "code",
   "execution_count": 49,
   "metadata": {},
   "outputs": [
    {
     "data": {
      "text/html": [
       "<div>\n",
       "<style scoped>\n",
       "    .dataframe tbody tr th:only-of-type {\n",
       "        vertical-align: middle;\n",
       "    }\n",
       "\n",
       "    .dataframe tbody tr th {\n",
       "        vertical-align: top;\n",
       "    }\n",
       "\n",
       "    .dataframe thead th {\n",
       "        text-align: right;\n",
       "    }\n",
       "</style>\n",
       "<table border=\"1\" class=\"dataframe\">\n",
       "  <thead>\n",
       "    <tr style=\"text-align: right;\">\n",
       "      <th></th>\n",
       "      <th>Close</th>\n",
       "      <th>title_sent</th>\n",
       "      <th>Volume</th>\n",
       "      <th>Pct_change</th>\n",
       "    </tr>\n",
       "    <tr>\n",
       "      <th>Date</th>\n",
       "      <th></th>\n",
       "      <th></th>\n",
       "      <th></th>\n",
       "      <th></th>\n",
       "    </tr>\n",
       "  </thead>\n",
       "  <tbody>\n",
       "    <tr>\n",
       "      <th>2022-02-11</th>\n",
       "      <td>0.144847</td>\n",
       "      <td>0.0</td>\n",
       "      <td>7.767306e+08</td>\n",
       "      <td>-0.046363</td>\n",
       "    </tr>\n",
       "    <tr>\n",
       "      <th>2022-02-12</th>\n",
       "      <td>0.144405</td>\n",
       "      <td>0.0</td>\n",
       "      <td>6.026994e+08</td>\n",
       "      <td>-0.003051</td>\n",
       "    </tr>\n",
       "    <tr>\n",
       "      <th>2022-02-13</th>\n",
       "      <td>0.148948</td>\n",
       "      <td>0.0</td>\n",
       "      <td>1.581065e+09</td>\n",
       "      <td>0.031460</td>\n",
       "    </tr>\n",
       "    <tr>\n",
       "      <th>2022-02-14</th>\n",
       "      <td>0.146003</td>\n",
       "      <td>0.0</td>\n",
       "      <td>8.980427e+08</td>\n",
       "      <td>-0.019772</td>\n",
       "    </tr>\n",
       "    <tr>\n",
       "      <th>2022-02-15</th>\n",
       "      <td>0.151761</td>\n",
       "      <td>1.0</td>\n",
       "      <td>6.749615e+08</td>\n",
       "      <td>0.039438</td>\n",
       "    </tr>\n",
       "  </tbody>\n",
       "</table>\n",
       "</div>"
      ],
      "text/plain": [
       "               Close  title_sent        Volume  Pct_change\n",
       "Date                                                      \n",
       "2022-02-11  0.144847         0.0  7.767306e+08   -0.046363\n",
       "2022-02-12  0.144405         0.0  6.026994e+08   -0.003051\n",
       "2022-02-13  0.148948         0.0  1.581065e+09    0.031460\n",
       "2022-02-14  0.146003         0.0  8.980427e+08   -0.019772\n",
       "2022-02-15  0.151761         1.0  6.749615e+08    0.039438"
      ]
     },
     "execution_count": 49,
     "metadata": {},
     "output_type": "execute_result"
    }
   ],
   "source": [
    "# Create a DataFrame of Real and Predicted values\n",
    "crypto = pd.DataFrame({\n",
    "    \"Real\": real_prices.ravel(),\n",
    "    \"Predicted\": predicted_prices.ravel()\n",
    "}, index = xgbr_df.index[-len(real_prices): ]) \n",
    "xgbr_df.head()"
   ]
  },
  {
   "cell_type": "code",
   "execution_count": 50,
   "metadata": {},
   "outputs": [
    {
     "data": {},
     "metadata": {},
     "output_type": "display_data"
    },
    {
     "data": {
      "application/vnd.holoviews_exec.v0+json": "",
      "text/html": [
       "<div id='1896'>\n",
       "\n",
       "\n",
       "\n",
       "\n",
       "\n",
       "  <div class=\"bk-root\" id=\"0b488e3c-1b43-4933-90dc-c9135def9801\" data-root-id=\"1896\"></div>\n",
       "</div>\n",
       "<script type=\"application/javascript\">(function(root) {\n",
       "  function embed_document(root) {\n",
       "    var docs_json = {\"c1e634dd-f21e-4978-b879-ec6c56bf7ed0\":{\"defs\":[{\"extends\":null,\"module\":null,\"name\":\"ReactiveHTML1\",\"overrides\":[],\"properties\":[]},{\"extends\":null,\"module\":null,\"name\":\"FlexBox1\",\"overrides\":[],\"properties\":[{\"default\":\"flex-start\",\"kind\":null,\"name\":\"align_content\"},{\"default\":\"flex-start\",\"kind\":null,\"name\":\"align_items\"},{\"default\":\"row\",\"kind\":null,\"name\":\"flex_direction\"},{\"default\":\"wrap\",\"kind\":null,\"name\":\"flex_wrap\"},{\"default\":\"flex-start\",\"kind\":null,\"name\":\"justify_content\"}]},{\"extends\":null,\"module\":null,\"name\":\"TemplateActions1\",\"overrides\":[],\"properties\":[{\"default\":0,\"kind\":null,\"name\":\"open_modal\"},{\"default\":0,\"kind\":null,\"name\":\"close_modal\"}]},{\"extends\":null,\"module\":null,\"name\":\"MaterialTemplateActions1\",\"overrides\":[],\"properties\":[{\"default\":0,\"kind\":null,\"name\":\"open_modal\"},{\"default\":0,\"kind\":null,\"name\":\"close_modal\"}]}],\"roots\":{\"references\":[{\"attributes\":{\"source\":{\"id\":\"1971\"}},\"id\":\"1978\",\"type\":\"CDSView\"},{\"attributes\":{\"line_color\":\"#fc4f30\",\"line_width\":2,\"x\":{\"field\":\"Date\"},\"y\":{\"field\":\"value\"}},\"id\":\"1974\",\"type\":\"Line\"},{\"attributes\":{\"mantissas\":[1,2,5],\"max_interval\":500.0,\"num_minor_ticks\":0},\"id\":\"1956\",\"type\":\"AdaptiveTicker\"},{\"attributes\":{},\"id\":\"1920\",\"type\":\"PanTool\"},{\"attributes\":{},\"id\":\"1972\",\"type\":\"Selection\"},{\"attributes\":{\"line_color\":\"#fc4f30\",\"line_width\":2,\"x\":{\"field\":\"Date\"},\"y\":{\"field\":\"value\"}},\"id\":\"2004\",\"type\":\"Line\"},{\"attributes\":{\"below\":[{\"id\":\"1911\"}],\"center\":[{\"id\":\"1914\"},{\"id\":\"1918\"}],\"height\":300,\"left\":[{\"id\":\"1915\"}],\"margin\":[5,5,5,5],\"min_border_bottom\":10,\"min_border_left\":10,\"min_border_right\":10,\"min_border_top\":10,\"renderers\":[{\"id\":\"1944\"},{\"id\":\"1977\"}],\"right\":[{\"id\":\"1968\"}],\"sizing_mode\":\"fixed\",\"title\":{\"id\":\"1903\"},\"toolbar\":{\"id\":\"1925\"},\"width\":700,\"x_range\":{\"id\":\"1898\"},\"x_scale\":{\"id\":\"1907\"},\"y_range\":{\"id\":\"1899\"},\"y_scale\":{\"id\":\"1909\"}},\"id\":\"1902\",\"subtype\":\"Figure\",\"type\":\"Plot\"},{\"attributes\":{},\"id\":\"1934\",\"type\":\"AllLabels\"},{\"attributes\":{},\"id\":\"1921\",\"type\":\"WheelZoomTool\"},{\"attributes\":{},\"id\":\"1907\",\"type\":\"LinearScale\"},{\"attributes\":{\"line_alpha\":0.1,\"line_color\":\"#fc4f30\",\"line_width\":2,\"x\":{\"field\":\"Date\"},\"y\":{\"field\":\"value\"}},\"id\":\"1975\",\"type\":\"Line\"},{\"attributes\":{},\"id\":\"1919\",\"type\":\"SaveTool\"},{\"attributes\":{\"base\":60,\"mantissas\":[1,2,5,10,15,20,30],\"max_interval\":1800000.0,\"min_interval\":1000.0,\"num_minor_ticks\":0},\"id\":\"1957\",\"type\":\"AdaptiveTicker\"},{\"attributes\":{\"base\":24,\"mantissas\":[1,2,4,6,8,12],\"max_interval\":43200000.0,\"min_interval\":3600000.0,\"num_minor_ticks\":0},\"id\":\"1958\",\"type\":\"AdaptiveTicker\"},{\"attributes\":{\"axis_label\":\"Date\",\"coordinates\":null,\"formatter\":{\"id\":\"1933\"},\"group\":null,\"major_label_policy\":{\"id\":\"1934\"},\"ticker\":{\"id\":\"1912\"}},\"id\":\"1911\",\"type\":\"DatetimeAxis\"},{\"attributes\":{},\"id\":\"1967\",\"type\":\"YearsTicker\"},{\"attributes\":{\"overlay\":{\"id\":\"1924\"}},\"id\":\"1922\",\"type\":\"BoxZoomTool\"},{\"attributes\":{\"end\":0.13458610326051712,\"reset_end\":0.13458610326051712,\"reset_start\":0.115432895720005,\"start\":0.115432895720005,\"tags\":[[[\"value\",\"value\",null]]]},\"id\":\"1899\",\"type\":\"Range1d\"},{\"attributes\":{\"months\":[0,1,2,3,4,5,6,7,8,9,10,11]},\"id\":\"1963\",\"type\":\"MonthsTicker\"},{\"attributes\":{},\"id\":\"1923\",\"type\":\"ResetTool\"},{\"attributes\":{\"click_policy\":\"mute\",\"coordinates\":null,\"group\":null,\"items\":[{\"id\":\"1969\"},{\"id\":\"2003\"}],\"location\":[0,0],\"title\":\"Variable\"},\"id\":\"1968\",\"type\":\"Legend\"},{\"attributes\":{\"axis_label\":\"\",\"coordinates\":null,\"formatter\":{\"id\":\"1936\"},\"group\":null,\"major_label_policy\":{\"id\":\"1937\"},\"ticker\":{\"id\":\"1916\"}},\"id\":\"1915\",\"type\":\"LinearAxis\"},{\"attributes\":{\"days\":[1,15]},\"id\":\"1962\",\"type\":\"DaysTicker\"},{\"attributes\":{\"axis\":{\"id\":\"1915\"},\"coordinates\":null,\"dimension\":1,\"grid_line_color\":null,\"group\":null,\"ticker\":null},\"id\":\"1918\",\"type\":\"Grid\"},{\"attributes\":{\"days\":[1,2,3,4,5,6,7,8,9,10,11,12,13,14,15,16,17,18,19,20,21,22,23,24,25,26,27,28,29,30,31]},\"id\":\"1959\",\"type\":\"DaysTicker\"},{\"attributes\":{\"bottom_units\":\"screen\",\"coordinates\":null,\"fill_alpha\":0.5,\"fill_color\":\"lightgrey\",\"group\":null,\"left_units\":\"screen\",\"level\":\"overlay\",\"line_alpha\":1.0,\"line_color\":\"black\",\"line_dash\":[4,4],\"line_width\":2,\"right_units\":\"screen\",\"syncable\":false,\"top_units\":\"screen\"},\"id\":\"1924\",\"type\":\"BoxAnnotation\"},{\"attributes\":{\"end\":1646784000000.0,\"reset_end\":1646784000000.0,\"reset_start\":1646179200000.0,\"start\":1646179200000.0,\"tags\":[[[\"Date\",\"Date\",null]]]},\"id\":\"1898\",\"type\":\"Range1d\"},{\"attributes\":{\"label\":{\"value\":\"Predicted\"},\"renderers\":[{\"id\":\"1977\"}]},\"id\":\"2003\",\"type\":\"LegendItem\"},{\"attributes\":{\"days\":[1,4,7,10,13,16,19,22,25,28]},\"id\":\"1960\",\"type\":\"DaysTicker\"},{\"attributes\":{\"days\":[1,8,15,22]},\"id\":\"1961\",\"type\":\"DaysTicker\"},{\"attributes\":{},\"id\":\"1936\",\"type\":\"BasicTickFormatter\"},{\"attributes\":{\"months\":[0,6]},\"id\":\"1966\",\"type\":\"MonthsTicker\"},{\"attributes\":{\"months\":[0,2,4,6,8,10]},\"id\":\"1964\",\"type\":\"MonthsTicker\"},{\"attributes\":{},\"id\":\"1988\",\"type\":\"UnionRenderers\"},{\"attributes\":{\"line_alpha\":0.2,\"line_color\":\"#30a2da\",\"line_width\":2,\"x\":{\"field\":\"Date\"},\"y\":{\"field\":\"value\"}},\"id\":\"1943\",\"type\":\"Line\"},{\"attributes\":{\"months\":[0,4,8]},\"id\":\"1965\",\"type\":\"MonthsTicker\"},{\"attributes\":{},\"id\":\"1953\",\"type\":\"UnionRenderers\"},{\"attributes\":{},\"id\":\"1939\",\"type\":\"Selection\"},{\"attributes\":{\"label\":{\"value\":\"Real\"},\"renderers\":[{\"id\":\"1944\"}]},\"id\":\"1969\",\"type\":\"LegendItem\"},{\"attributes\":{\"data\":{\"Date\":{\"__ndarray__\":\"AADA0n70d0IAAIA40fR3QgAAQJ4j9XdCAAAABHb1d0IAAMBpyPV3QgAAgM8a9ndCAABANW32d0IAAACbv/Z3Qg==\",\"dtype\":\"float64\",\"order\":\"little\",\"shape\":[8]},\"Variable\":[\"Predicted\",\"Predicted\",\"Predicted\",\"Predicted\",\"Predicted\",\"Predicted\",\"Predicted\",\"Predicted\"],\"value\":{\"__ndarray__\":\"xWkAPt3tBD5QfQM+LtH7Pd3S8D38hvQ9meb2Pc6N+j0=\",\"dtype\":\"float32\",\"order\":\"little\",\"shape\":[8]}},\"selected\":{\"id\":\"1972\"},\"selection_policy\":{\"id\":\"1988\"}},\"id\":\"1971\",\"type\":\"ColumnDataSource\"},{\"attributes\":{\"coordinates\":null,\"group\":null,\"text\":\"Real vs Predicted values of Dogecoin\",\"text_color\":\"black\",\"text_font_size\":\"12pt\"},\"id\":\"1903\",\"type\":\"Title\"},{\"attributes\":{\"num_minor_ticks\":5,\"tickers\":[{\"id\":\"1956\"},{\"id\":\"1957\"},{\"id\":\"1958\"},{\"id\":\"1959\"},{\"id\":\"1960\"},{\"id\":\"1961\"},{\"id\":\"1962\"},{\"id\":\"1963\"},{\"id\":\"1964\"},{\"id\":\"1965\"},{\"id\":\"1966\"},{\"id\":\"1967\"}]},\"id\":\"1912\",\"type\":\"DatetimeTicker\"},{\"attributes\":{\"tools\":[{\"id\":\"1900\"},{\"id\":\"1919\"},{\"id\":\"1920\"},{\"id\":\"1921\"},{\"id\":\"1922\"},{\"id\":\"1923\"}]},\"id\":\"1925\",\"type\":\"Toolbar\"},{\"attributes\":{},\"id\":\"1909\",\"type\":\"LinearScale\"},{\"attributes\":{\"source\":{\"id\":\"1938\"}},\"id\":\"1945\",\"type\":\"CDSView\"},{\"attributes\":{},\"id\":\"1916\",\"type\":\"BasicTicker\"},{\"attributes\":{\"callback\":null,\"formatters\":{\"@{Date}\":\"datetime\"},\"renderers\":[{\"id\":\"1944\"},{\"id\":\"1977\"}],\"tags\":[\"hv_created\"],\"tooltips\":[[\"Variable\",\"@{Variable}\"],[\"Date\",\"@{Date}{%F %T}\"],[\"value\",\"@{value}\"]]},\"id\":\"1900\",\"type\":\"HoverTool\"},{\"attributes\":{\"margin\":[5,5,5,5],\"name\":\"HSpacer02543\",\"sizing_mode\":\"stretch_width\"},\"id\":\"1897\",\"type\":\"Spacer\"},{\"attributes\":{\"coordinates\":null,\"data_source\":{\"id\":\"1971\"},\"glyph\":{\"id\":\"1974\"},\"group\":null,\"hover_glyph\":null,\"muted_glyph\":{\"id\":\"1976\"},\"nonselection_glyph\":{\"id\":\"1975\"},\"selection_glyph\":{\"id\":\"2004\"},\"view\":{\"id\":\"1978\"}},\"id\":\"1977\",\"type\":\"GlyphRenderer\"},{\"attributes\":{},\"id\":\"1937\",\"type\":\"AllLabels\"},{\"attributes\":{\"line_color\":\"#30a2da\",\"line_width\":2,\"x\":{\"field\":\"Date\"},\"y\":{\"field\":\"value\"}},\"id\":\"1941\",\"type\":\"Line\"},{\"attributes\":{\"axis\":{\"id\":\"1911\"},\"coordinates\":null,\"grid_line_color\":null,\"group\":null,\"ticker\":null},\"id\":\"1914\",\"type\":\"Grid\"},{\"attributes\":{\"line_color\":\"#30a2da\",\"line_width\":2,\"x\":{\"field\":\"Date\"},\"y\":{\"field\":\"value\"}},\"id\":\"1970\",\"type\":\"Line\"},{\"attributes\":{\"children\":[{\"id\":\"1897\"},{\"id\":\"1902\"},{\"id\":\"2221\"}],\"margin\":[0,0,0,0],\"name\":\"Row02539\",\"tags\":[\"embedded\"]},\"id\":\"1896\",\"type\":\"Row\"},{\"attributes\":{\"margin\":[5,5,5,5],\"name\":\"HSpacer02544\",\"sizing_mode\":\"stretch_width\"},\"id\":\"2221\",\"type\":\"Spacer\"},{\"attributes\":{},\"id\":\"1933\",\"type\":\"DatetimeTickFormatter\"},{\"attributes\":{\"line_alpha\":0.1,\"line_color\":\"#30a2da\",\"line_width\":2,\"x\":{\"field\":\"Date\"},\"y\":{\"field\":\"value\"}},\"id\":\"1942\",\"type\":\"Line\"},{\"attributes\":{\"coordinates\":null,\"data_source\":{\"id\":\"1938\"},\"glyph\":{\"id\":\"1941\"},\"group\":null,\"hover_glyph\":null,\"muted_glyph\":{\"id\":\"1943\"},\"nonselection_glyph\":{\"id\":\"1942\"},\"selection_glyph\":{\"id\":\"1970\"},\"view\":{\"id\":\"1945\"}},\"id\":\"1944\",\"type\":\"GlyphRenderer\"},{\"attributes\":{\"data\":{\"Date\":{\"__ndarray__\":\"AADA0n70d0IAAIA40fR3QgAAQJ4j9XdCAAAABHb1d0IAAMBpyPV3QgAAgM8a9ndCAABANW32d0IAAACbv/Z3Qg==\",\"dtype\":\"float64\",\"order\":\"little\",\"shape\":[8]},\"Variable\":[\"Real\",\"Real\",\"Real\",\"Real\",\"Real\",\"Real\",\"Real\",\"Real\"],\"value\":{\"__ndarray__\":\"AAAAANEFwT////9/D5fAP/7//58fYr8//P//37z/vz////8/heq+P/v//9+X+r0//f//v5z1vT/9//8fZCC/Pw==\",\"dtype\":\"float64\",\"order\":\"little\",\"shape\":[8]}},\"selected\":{\"id\":\"1939\"},\"selection_policy\":{\"id\":\"1953\"}},\"id\":\"1938\",\"type\":\"ColumnDataSource\"},{\"attributes\":{\"line_alpha\":0.2,\"line_color\":\"#fc4f30\",\"line_width\":2,\"x\":{\"field\":\"Date\"},\"y\":{\"field\":\"value\"}},\"id\":\"1976\",\"type\":\"Line\"}],\"root_ids\":[\"1896\"]},\"title\":\"Bokeh Application\",\"version\":\"2.4.1\"}};\n",
       "    var render_items = [{\"docid\":\"c1e634dd-f21e-4978-b879-ec6c56bf7ed0\",\"root_ids\":[\"1896\"],\"roots\":{\"1896\":\"0b488e3c-1b43-4933-90dc-c9135def9801\"}}];\n",
       "    root.Bokeh.embed.embed_items_notebook(docs_json, render_items);\n",
       "  }\n",
       "  if (root.Bokeh !== undefined && root.Bokeh.Panel !== undefined) {\n",
       "    embed_document(root);\n",
       "  } else {\n",
       "    var attempts = 0;\n",
       "    var timer = setInterval(function(root) {\n",
       "      if (root.Bokeh !== undefined && root.Bokeh.Panel !== undefined) {\n",
       "        clearInterval(timer);\n",
       "        embed_document(root);\n",
       "      } else if (document.readyState == \"complete\") {\n",
       "        attempts++;\n",
       "        if (attempts > 200) {\n",
       "          clearInterval(timer);\n",
       "          console.log(\"Bokeh: ERROR: Unable to run BokehJS code because BokehJS library is missing\");\n",
       "        }\n",
       "      }\n",
       "    }, 25, root)\n",
       "  }\n",
       "})(window);</script>"
      ],
      "text/plain": [
       ":NdOverlay   [Variable]\n",
       "   :Curve   [Date]   (value)"
      ]
     },
     "execution_count": 50,
     "metadata": {
      "application/vnd.holoviews_exec.v0+json": {
       "id": "1896"
      }
     },
     "output_type": "execute_result"
    }
   ],
   "source": [
    "# Plot the real vs predicted values as a line chart\n",
    "crypto.hvplot(title = \"Real vs Predicted values of Dogecoin\")"
   ]
  },
  {
   "cell_type": "code",
   "execution_count": null,
   "metadata": {},
   "outputs": [],
   "source": []
  }
 ],
 "metadata": {
  "kernelspec": {
   "display_name": "Python 3 (ipykernel)",
   "language": "python",
   "name": "python3"
  },
  "language_info": {
   "codemirror_mode": {
    "name": "ipython",
    "version": 3
   },
   "file_extension": ".py",
   "mimetype": "text/x-python",
   "name": "python",
   "nbconvert_exporter": "python",
   "pygments_lexer": "ipython3",
   "version": "3.8.2"
  }
 },
 "nbformat": 4,
 "nbformat_minor": 4
}
