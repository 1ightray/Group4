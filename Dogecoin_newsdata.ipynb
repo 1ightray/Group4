{
 "cells": [
  {
   "cell_type": "markdown",
   "id": "5481b028-a5cc-4e06-846b-9733056615d0",
   "metadata": {},
   "source": [
    "## News Sentiment Analysis and Crypto price prediction of Dogecoin"
   ]
  },
  {
   "cell_type": "code",
   "execution_count": 1,
   "id": "a623f15b-0bd7-48e9-9ed3-ba89227f8f3c",
   "metadata": {},
   "outputs": [],
   "source": [
    "#project description"
   ]
  },
  {
   "cell_type": "code",
   "execution_count": 2,
   "id": "126ccb8a-def9-489d-9922-265b01735b32",
   "metadata": {},
   "outputs": [],
   "source": [
    "## Book 1 : Getting Dogecoin News"
   ]
  },
  {
   "cell_type": "code",
   "execution_count": 3,
   "id": "2d50eb6a-cd58-4407-9d73-c7bb2b4db6aa",
   "metadata": {},
   "outputs": [],
   "source": [
    "# Initial imports\n",
    "import os\n",
    "import pandas as pd\n",
    "from path import Path\n",
    "from dotenv import load_dotenv\n",
    "from newsapi import NewsApiClient"
   ]
  },
  {
   "cell_type": "code",
   "execution_count": 4,
   "id": "d9493168-119b-4c10-9440-ac478b1e4275",
   "metadata": {},
   "outputs": [],
   "source": [
    "# Load environment variables and retrieve the News API key\n",
    "load_dotenv()\n",
    "api_key = os.getenv(\"NEWS_API_KEY\")"
   ]
  },
  {
   "cell_type": "code",
   "execution_count": 5,
   "id": "9eafa7bd-fa60-43f2-ab1d-354129a9df45",
   "metadata": {},
   "outputs": [],
   "source": [
    "# Create the newsapi client\n",
    "newsapi = NewsApiClient(api_key=api_key)"
   ]
  },
  {
   "cell_type": "markdown",
   "id": "6602a6e5-f49e-4468-9b06-554db02a0988",
   "metadata": {},
   "source": [
    "### Dogecoin"
   ]
  },
  {
   "cell_type": "markdown",
   "id": "6fd1e789-432d-4351-aebc-25154b059a8f",
   "metadata": {},
   "source": [
    "### Step 1 : Getting News Articles in English"
   ]
  },
  {
   "cell_type": "code",
   "execution_count": 6,
   "id": "27c9c2ac-f214-4ea1-bc37-3e4012c23990",
   "metadata": {},
   "outputs": [
    {
     "data": {
      "text/plain": [
       "522"
      ]
     },
     "execution_count": 6,
     "metadata": {},
     "output_type": "execute_result"
    }
   ],
   "source": [
    "# Fetch news about Dogecoin in the English language\n",
    "dogecoin_news_en = newsapi.get_everything(\n",
    "    q=\"dogecoin\",\n",
    "    language=\"en\",\n",
    "    page_size = 100\n",
    "    #from_param = \"2020-01-01\",\n",
    "    #to = \"2020-12-12\"\n",
    ")\n",
    "\n",
    "# Show the total number of news\n",
    "dogecoin_news_en[\"totalResults\"]"
   ]
  },
  {
   "cell_type": "markdown",
   "id": "47f8059e-ab3a-431d-9254-96fe648256a1",
   "metadata": {},
   "source": [
    "### Step 2 : Create a DataFrame with All the Results"
   ]
  },
  {
   "cell_type": "code",
   "execution_count": 7,
   "id": "8f3489ee-1b7e-4459-806f-13ebe76dd122",
   "metadata": {},
   "outputs": [],
   "source": [
    "# Function to create a dataframe for dogecoin english news\n",
    "def create_df(news, language):\n",
    "    articles = []\n",
    "    for article in news:\n",
    "        try:\n",
    "            title = article[\"title\"]\n",
    "            description = article[\"description\"]\n",
    "            text = article[\"content\"]\n",
    "            date = article[\"publishedAt\"][:10]\n",
    "\n",
    "            articles.append({\n",
    "                \"title\": title,\n",
    "                \"description\": description,\n",
    "                \"text\": text,\n",
    "                \"date\": date,\n",
    "                \"language\": language\n",
    "            })\n",
    "        except AttributeError:\n",
    "            pass\n",
    "\n",
    "    return pd.DataFrame(articles)"
   ]
  },
  {
   "cell_type": "code",
   "execution_count": 8,
   "id": "8003d1f4-4b41-4657-8859-02c0db2a92fb",
   "metadata": {},
   "outputs": [],
   "source": [
    "# Create a DataFrame with the news in English\n",
    "dogecoin_en_df = create_df(dogecoin_news_en[\"articles\"], \"en\")"
   ]
  },
  {
   "cell_type": "code",
   "execution_count": 9,
   "id": "f2bbe551-6f68-45c0-b5ba-8ffbf1c03962",
   "metadata": {},
   "outputs": [
    {
     "data": {
      "text/html": [
       "<div>\n",
       "<style scoped>\n",
       "    .dataframe tbody tr th:only-of-type {\n",
       "        vertical-align: middle;\n",
       "    }\n",
       "\n",
       "    .dataframe tbody tr th {\n",
       "        vertical-align: top;\n",
       "    }\n",
       "\n",
       "    .dataframe thead th {\n",
       "        text-align: right;\n",
       "    }\n",
       "</style>\n",
       "<table border=\"1\" class=\"dataframe\">\n",
       "  <thead>\n",
       "    <tr style=\"text-align: right;\">\n",
       "      <th></th>\n",
       "      <th>title</th>\n",
       "      <th>description</th>\n",
       "      <th>text</th>\n",
       "      <th>date</th>\n",
       "      <th>language</th>\n",
       "    </tr>\n",
       "  </thead>\n",
       "  <tbody>\n",
       "    <tr>\n",
       "      <th>0</th>\n",
       "      <td>Key dogecoin developer Ross Nicoll is stepping...</td>\n",
       "      <td>\"I'm handing over everything I can to the Doge...</td>\n",
       "      <td>Ross Nicoll, one of the primary developers beh...</td>\n",
       "      <td>2022-02-17</td>\n",
       "      <td>en</td>\n",
       "    </tr>\n",
       "    <tr>\n",
       "      <th>1</th>\n",
       "      <td>Ukraine is asking for dogecoin donations, pref...</td>\n",
       "      <td>Dogecoin is now worth more than rubles, accord...</td>\n",
       "      <td>Dogecoin is now worth more than rubles, accord...</td>\n",
       "      <td>2022-03-02</td>\n",
       "      <td>en</td>\n",
       "    </tr>\n",
       "    <tr>\n",
       "      <th>2</th>\n",
       "      <td>Bitcoin, Dogecoin, Shiba Inu and other cryptoc...</td>\n",
       "      <td>Far from being a safe bet in risky times, cryp...</td>\n",
       "      <td>Cryptocurrencies around the world are getting ...</td>\n",
       "      <td>2022-02-18</td>\n",
       "      <td>en</td>\n",
       "    </tr>\n",
       "    <tr>\n",
       "      <th>3</th>\n",
       "      <td>Crypto Users Answer Ukraine's Call for Help By...</td>\n",
       "      <td>However, some crypto platforms are refusing to...</td>\n",
       "      <td>As the international community rallies around ...</td>\n",
       "      <td>2022-03-03</td>\n",
       "      <td>en</td>\n",
       "    </tr>\n",
       "    <tr>\n",
       "      <th>4</th>\n",
       "      <td>EU checking if cryptoassets being used to bust...</td>\n",
       "      <td>The European Commission is studying whether cr...</td>\n",
       "      <td>Representations of cryptocurrencies Bitcoin, E...</td>\n",
       "      <td>2022-03-02</td>\n",
       "      <td>en</td>\n",
       "    </tr>\n",
       "  </tbody>\n",
       "</table>\n",
       "</div>"
      ],
      "text/plain": [
       "                                               title  \\\n",
       "0  Key dogecoin developer Ross Nicoll is stepping...   \n",
       "1  Ukraine is asking for dogecoin donations, pref...   \n",
       "2  Bitcoin, Dogecoin, Shiba Inu and other cryptoc...   \n",
       "3  Crypto Users Answer Ukraine's Call for Help By...   \n",
       "4  EU checking if cryptoassets being used to bust...   \n",
       "\n",
       "                                         description  \\\n",
       "0  \"I'm handing over everything I can to the Doge...   \n",
       "1  Dogecoin is now worth more than rubles, accord...   \n",
       "2  Far from being a safe bet in risky times, cryp...   \n",
       "3  However, some crypto platforms are refusing to...   \n",
       "4  The European Commission is studying whether cr...   \n",
       "\n",
       "                                                text        date language  \n",
       "0  Ross Nicoll, one of the primary developers beh...  2022-02-17       en  \n",
       "1  Dogecoin is now worth more than rubles, accord...  2022-03-02       en  \n",
       "2  Cryptocurrencies around the world are getting ...  2022-02-18       en  \n",
       "3  As the international community rallies around ...  2022-03-03       en  \n",
       "4  Representations of cryptocurrencies Bitcoin, E...  2022-03-02       en  "
      ]
     },
     "execution_count": 9,
     "metadata": {},
     "output_type": "execute_result"
    }
   ],
   "source": [
    "# Show the head articles\n",
    "dogecoin_en_df.head()"
   ]
  },
  {
   "cell_type": "markdown",
   "id": "3f8c5879-b3e7-4a15-abda-e08497b0ec7a",
   "metadata": {},
   "source": [
    "### Step 3 : Save tha final DataFrame as a CSV file for further analysis in the forthcoming activities."
   ]
  },
  {
   "cell_type": "code",
   "execution_count": 10,
   "id": "dedc401d-a6d4-4fa0-9781-046dea248217",
   "metadata": {},
   "outputs": [],
   "source": [
    "file_path = Path(\"dogecoin_news_en_.csv\")\n",
    "dogecoin_en_df.to_csv(file_path, index=False, encoding='utf-8-sig')"
   ]
  },
  {
   "cell_type": "markdown",
   "id": "6ad368a0-f5a7-472e-98d7-121e6b8ca858",
   "metadata": {},
   "source": [
    "## Bitcoin "
   ]
  },
  {
   "cell_type": "markdown",
   "id": "85644eaf-6719-4580-bd63-91b0e8287442",
   "metadata": {},
   "source": [
    "### Step 1 : Getting News Articles in English"
   ]
  },
  {
   "cell_type": "code",
   "execution_count": 11,
   "id": "347efb73-e312-4321-b7bf-4363d936da51",
   "metadata": {},
   "outputs": [
    {
     "data": {
      "text/plain": [
       "7141"
      ]
     },
     "execution_count": 11,
     "metadata": {},
     "output_type": "execute_result"
    }
   ],
   "source": [
    "# Fetch news about Bitcoin in the English language\n",
    "bitcoin_news_en = newsapi.get_everything(\n",
    "    q=\"bitcoin\",\n",
    "    language=\"en\",\n",
    "    page_size = 100\n",
    "    #from_param = \"2020-01-01\",\n",
    "    #to = \"2020-12-12\"\n",
    ")\n",
    "\n",
    "# Show the total number of news\n",
    "bitcoin_news_en[\"totalResults\"]"
   ]
  },
  {
   "cell_type": "markdown",
   "id": "a31b4f26-5f0c-47bc-89c0-65e664aa5a65",
   "metadata": {},
   "source": [
    "### Step 2 : Create a DataFrame with All the Results"
   ]
  },
  {
   "cell_type": "code",
   "execution_count": 12,
   "id": "b028f182-31e0-4ceb-a217-b09b51ed7eee",
   "metadata": {},
   "outputs": [],
   "source": [
    "# Function to create a dataframe for bitcoin english news\n",
    "def create_df(news, language):\n",
    "    articles = []\n",
    "    for article in news:\n",
    "        try:\n",
    "            title = article[\"title\"]\n",
    "            description = article[\"description\"]\n",
    "            text = article[\"content\"]\n",
    "            date = article[\"publishedAt\"][:10]\n",
    "\n",
    "            articles.append({\n",
    "                \"title\": title,\n",
    "                \"description\": description,\n",
    "                \"text\": text,\n",
    "                \"date\": date,\n",
    "                \"language\": language\n",
    "            })\n",
    "        except AttributeError:\n",
    "            pass\n",
    "\n",
    "    return pd.DataFrame(articles)"
   ]
  },
  {
   "cell_type": "code",
   "execution_count": 13,
   "id": "b4ead31a-5b42-44b9-a4fb-71e0d9df398d",
   "metadata": {},
   "outputs": [],
   "source": [
    "# Create a DataFrame with the news in English\n",
    "bitcoin_en_df = create_df(bitcoin_news_en[\"articles\"], \"en\")"
   ]
  },
  {
   "cell_type": "code",
   "execution_count": 14,
   "id": "ddc0a861-8175-4619-bc12-94247f42bde9",
   "metadata": {},
   "outputs": [
    {
     "data": {
      "text/html": [
       "<div>\n",
       "<style scoped>\n",
       "    .dataframe tbody tr th:only-of-type {\n",
       "        vertical-align: middle;\n",
       "    }\n",
       "\n",
       "    .dataframe tbody tr th {\n",
       "        vertical-align: top;\n",
       "    }\n",
       "\n",
       "    .dataframe thead th {\n",
       "        text-align: right;\n",
       "    }\n",
       "</style>\n",
       "<table border=\"1\" class=\"dataframe\">\n",
       "  <thead>\n",
       "    <tr style=\"text-align: right;\">\n",
       "      <th></th>\n",
       "      <th>title</th>\n",
       "      <th>description</th>\n",
       "      <th>text</th>\n",
       "      <th>date</th>\n",
       "      <th>language</th>\n",
       "    </tr>\n",
       "  </thead>\n",
       "  <tbody>\n",
       "    <tr>\n",
       "      <th>0</th>\n",
       "      <td>Netflix is already making a docuseries about t...</td>\n",
       "      <td>Netflix\\r\\n is making a docuseries about one o...</td>\n",
       "      <td>Netflix\\r\\n is making a docuseries about one o...</td>\n",
       "      <td>2022-02-11</td>\n",
       "      <td>en</td>\n",
       "    </tr>\n",
       "    <tr>\n",
       "      <th>1</th>\n",
       "      <td>Justice Dept. Announces Raft of Changes Meant ...</td>\n",
       "      <td>The moves came a week after the department mad...</td>\n",
       "      <td>Even in cyberspace, the Department of Justice ...</td>\n",
       "      <td>2022-02-17</td>\n",
       "      <td>en</td>\n",
       "    </tr>\n",
       "    <tr>\n",
       "      <th>2</th>\n",
       "      <td>Inside Heather Morgan and Ilya Lichtenstein's ...</td>\n",
       "      <td>The arrests of Ilya Lichtenstein and Heather M...</td>\n",
       "      <td>The couple would never flee from the country a...</td>\n",
       "      <td>2022-02-13</td>\n",
       "      <td>en</td>\n",
       "    </tr>\n",
       "    <tr>\n",
       "      <th>3</th>\n",
       "      <td>Super Bowl Crypto Ads Feature Larry David, LeB...</td>\n",
       "      <td>If Sunday’s Super Bowl ads are any indication,...</td>\n",
       "      <td>If Sundays Super Bowl ads are any indication, ...</td>\n",
       "      <td>2022-02-14</td>\n",
       "      <td>en</td>\n",
       "    </tr>\n",
       "    <tr>\n",
       "      <th>4</th>\n",
       "      <td>It Only Took 3 Days for Netflix to Order a Doc...</td>\n",
       "      <td>The news of one of the biggest money launderin...</td>\n",
       "      <td>The news of one of the biggest money launderin...</td>\n",
       "      <td>2022-02-12</td>\n",
       "      <td>en</td>\n",
       "    </tr>\n",
       "  </tbody>\n",
       "</table>\n",
       "</div>"
      ],
      "text/plain": [
       "                                               title  \\\n",
       "0  Netflix is already making a docuseries about t...   \n",
       "1  Justice Dept. Announces Raft of Changes Meant ...   \n",
       "2  Inside Heather Morgan and Ilya Lichtenstein's ...   \n",
       "3  Super Bowl Crypto Ads Feature Larry David, LeB...   \n",
       "4  It Only Took 3 Days for Netflix to Order a Doc...   \n",
       "\n",
       "                                         description  \\\n",
       "0  Netflix\\r\\n is making a docuseries about one o...   \n",
       "1  The moves came a week after the department mad...   \n",
       "2  The arrests of Ilya Lichtenstein and Heather M...   \n",
       "3  If Sunday’s Super Bowl ads are any indication,...   \n",
       "4  The news of one of the biggest money launderin...   \n",
       "\n",
       "                                                text        date language  \n",
       "0  Netflix\\r\\n is making a docuseries about one o...  2022-02-11       en  \n",
       "1  Even in cyberspace, the Department of Justice ...  2022-02-17       en  \n",
       "2  The couple would never flee from the country a...  2022-02-13       en  \n",
       "3  If Sundays Super Bowl ads are any indication, ...  2022-02-14       en  \n",
       "4  The news of one of the biggest money launderin...  2022-02-12       en  "
      ]
     },
     "execution_count": 14,
     "metadata": {},
     "output_type": "execute_result"
    }
   ],
   "source": [
    "# Show the head articles\n",
    "bitcoin_en_df.head()"
   ]
  },
  {
   "cell_type": "markdown",
   "id": "42dd832d-7bb6-44a8-8ce6-e850b073a6b1",
   "metadata": {},
   "source": [
    "### Step 3 : Save tha final DataFrame as a CSV file for further analysis in the forthcoming activities."
   ]
  },
  {
   "cell_type": "code",
   "execution_count": 15,
   "id": "a9f6ad54-ae7f-4017-9e07-8c60933ea400",
   "metadata": {},
   "outputs": [],
   "source": [
    "file_path = Path(\"bitcoin_news_en_.csv\")\n",
    "bitcoin_en_df.to_csv(file_path, index=False, encoding='utf-8-sig')"
   ]
  },
  {
   "cell_type": "code",
   "execution_count": null,
   "id": "2372a685-4705-47f6-8378-1c34434cc4ad",
   "metadata": {},
   "outputs": [],
   "source": []
  },
  {
   "cell_type": "code",
   "execution_count": null,
   "id": "7fac4dc0-0761-404e-89db-9a56b4f17749",
   "metadata": {},
   "outputs": [],
   "source": []
  },
  {
   "cell_type": "code",
   "execution_count": null,
   "id": "cedef13a-1b6a-4b41-8e9d-72cd1eb9c8ec",
   "metadata": {},
   "outputs": [],
   "source": []
  },
  {
   "cell_type": "code",
   "execution_count": null,
   "id": "1063a73e-be95-4327-a91d-8c23f225dab5",
   "metadata": {},
   "outputs": [],
   "source": []
  },
  {
   "cell_type": "code",
   "execution_count": null,
   "id": "b6bee349-2e4b-4728-b300-459aae06dd45",
   "metadata": {},
   "outputs": [],
   "source": []
  },
  {
   "cell_type": "code",
   "execution_count": 16,
   "id": "443dff9f-d9e1-4470-ad96-dba4340c2a6e",
   "metadata": {},
   "outputs": [],
   "source": [
    "#newyork times API, guardian API, yahoo news API"
   ]
  },
  {
   "cell_type": "code",
   "execution_count": 17,
   "id": "9dccc989-2bf0-448e-8bac-01cfda9befa0",
   "metadata": {},
   "outputs": [],
   "source": [
    "#https://github.com/arjunchndr/Bitcoin-Stock-Prediction-Using-Deep-Learning-and-Sentiment-Analysis"
   ]
  },
  {
   "cell_type": "code",
   "execution_count": 18,
   "id": "b3e34c7c-aa02-46b6-87ea-831312b7738b",
   "metadata": {},
   "outputs": [],
   "source": [
    "#https://github.com/arpit0891/Stock-price-predection-using-LSTM-and-Sentiment-analysis/blob/main/stock_sentiment_with_limits.ipynb"
   ]
  },
  {
   "cell_type": "code",
   "execution_count": 19,
   "id": "2dd54053-769f-421c-a312-d0d8ca3321c6",
   "metadata": {},
   "outputs": [],
   "source": [
    "#https://pythoninvest.com/long-read/sentiment-analysis-of-financial-news"
   ]
  },
  {
   "cell_type": "code",
   "execution_count": 20,
   "id": "57fc83e8-22a5-4f4b-a08d-3685cfe7059e",
   "metadata": {},
   "outputs": [],
   "source": [
    "#https://github.com/hiteshgohil96/Effect-of-News-Article-on-Stock-Market-Price"
   ]
  },
  {
   "cell_type": "code",
   "execution_count": 21,
   "id": "4fb580ce-7e86-42ec-b7ab-27923cb96cfb",
   "metadata": {},
   "outputs": [],
   "source": [
    "#https://github.com/dineshdaultani/StockPredictions"
   ]
  }
 ],
 "metadata": {
  "kernelspec": {
   "display_name": "Python 3 (ipykernel)",
   "language": "python",
   "name": "python3"
  },
  "language_info": {
   "codemirror_mode": {
    "name": "ipython",
    "version": 3
   },
   "file_extension": ".py",
   "mimetype": "text/x-python",
   "name": "python",
   "nbconvert_exporter": "python",
   "pygments_lexer": "ipython3",
   "version": "3.8.2"
  }
 },
 "nbformat": 4,
 "nbformat_minor": 5
}
