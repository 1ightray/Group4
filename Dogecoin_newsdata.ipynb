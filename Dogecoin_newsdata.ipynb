{
 "cells": [
  {
   "cell_type": "markdown",
   "id": "5481b028-a5cc-4e06-846b-9733056615d0",
   "metadata": {},
   "source": [
    "## News Sentiment Analysis and Crypto price prediction of Dogecoin"
   ]
  },
  {
   "cell_type": "code",
   "execution_count": 1,
   "id": "a623f15b-0bd7-48e9-9ed3-ba89227f8f3c",
   "metadata": {},
   "outputs": [],
   "source": [
    "#project description"
   ]
  },
  {
   "cell_type": "code",
   "execution_count": 2,
   "id": "126ccb8a-def9-489d-9922-265b01735b32",
   "metadata": {},
   "outputs": [],
   "source": [
    "## Book 1 : Getting Dogecoin News"
   ]
  },
  {
   "cell_type": "code",
   "execution_count": 3,
   "id": "2d50eb6a-cd58-4407-9d73-c7bb2b4db6aa",
   "metadata": {},
   "outputs": [],
   "source": [
    "# Initial imports\n",
    "import os\n",
    "import pandas as pd\n",
    "from path import Path\n",
    "from dotenv import load_dotenv\n",
    "from newsapi import NewsApiClient"
   ]
  },
  {
   "cell_type": "code",
   "execution_count": 4,
   "id": "d9493168-119b-4c10-9440-ac478b1e4275",
   "metadata": {},
   "outputs": [],
   "source": [
    "# Load environment variables and retrieve the News API key\n",
    "load_dotenv()\n",
    "api_key = os.getenv(\"NEWS_API_KEY\")"
   ]
  },
  {
   "cell_type": "code",
   "execution_count": 5,
   "id": "9eafa7bd-fa60-43f2-ab1d-354129a9df45",
   "metadata": {},
   "outputs": [],
   "source": [
    "# Create the newsapi client\n",
    "newsapi = NewsApiClient(api_key=api_key)"
   ]
  },
  {
   "cell_type": "markdown",
   "id": "0c945ad9-130e-4961-9406-c915f05b276b",
   "metadata": {},
   "source": [
    "### Getting News Articles of Dogecoin in English"
   ]
  },
  {
   "cell_type": "code",
   "execution_count": 6,
   "id": "27c9c2ac-f214-4ea1-bc37-3e4012c23990",
   "metadata": {},
   "outputs": [
    {
     "ename": "NewsAPIException",
     "evalue": "{'status': 'error', 'code': 'rateLimited', 'message': 'You have made too many requests recently. Developer accounts are limited to 100 requests over a 24 hour period (50 requests available every 12 hours). Please upgrade to a paid plan if you need more requests.'}",
     "output_type": "error",
     "traceback": [
      "\u001b[0;31m---------------------------------------------------------------------------\u001b[0m",
      "\u001b[0;31mNewsAPIException\u001b[0m                          Traceback (most recent call last)",
      "\u001b[0;32m/var/folders/sw/b_zvvxn52zv5n10dmvbj_jwm0000gn/T/ipykernel_3752/391274059.py\u001b[0m in \u001b[0;36m<module>\u001b[0;34m\u001b[0m\n\u001b[1;32m      1\u001b[0m \u001b[0;31m# Fetch news about Dogecoin in the English language\u001b[0m\u001b[0;34m\u001b[0m\u001b[0;34m\u001b[0m\u001b[0;34m\u001b[0m\u001b[0m\n\u001b[0;32m----> 2\u001b[0;31m dogecoin_news_en = newsapi.get_everything(\n\u001b[0m\u001b[1;32m      3\u001b[0m     \u001b[0mq\u001b[0m\u001b[0;34m=\u001b[0m\u001b[0;34m\"dogecoin\"\u001b[0m\u001b[0;34m,\u001b[0m\u001b[0;34m\u001b[0m\u001b[0;34m\u001b[0m\u001b[0m\n\u001b[1;32m      4\u001b[0m     \u001b[0mlanguage\u001b[0m\u001b[0;34m=\u001b[0m\u001b[0;34m\"en\"\u001b[0m\u001b[0;34m,\u001b[0m\u001b[0;34m\u001b[0m\u001b[0;34m\u001b[0m\u001b[0m\n\u001b[1;32m      5\u001b[0m     \u001b[0mfrom_param\u001b[0m \u001b[0;34m=\u001b[0m \u001b[0;34m\"2020-01-01\"\u001b[0m\u001b[0;34m,\u001b[0m\u001b[0;34m\u001b[0m\u001b[0;34m\u001b[0m\u001b[0m\n",
      "\u001b[0;32m~/opt/anaconda3/lib/python3.8/site-packages/newsapi/newsapi_client.py\u001b[0m in \u001b[0;36mget_everything\u001b[0;34m(self, q, sources, domains, exclude_domains, from_param, to, language, sort_by, page, page_size)\u001b[0m\n\u001b[1;32m    259\u001b[0m         \u001b[0;31m# Check Status of Request\u001b[0m\u001b[0;34m\u001b[0m\u001b[0;34m\u001b[0m\u001b[0;34m\u001b[0m\u001b[0m\n\u001b[1;32m    260\u001b[0m         \u001b[0;32mif\u001b[0m \u001b[0mr\u001b[0m\u001b[0;34m.\u001b[0m\u001b[0mstatus_code\u001b[0m \u001b[0;34m!=\u001b[0m \u001b[0mrequests\u001b[0m\u001b[0;34m.\u001b[0m\u001b[0mcodes\u001b[0m\u001b[0;34m.\u001b[0m\u001b[0mok\u001b[0m\u001b[0;34m:\u001b[0m\u001b[0;34m\u001b[0m\u001b[0;34m\u001b[0m\u001b[0m\n\u001b[0;32m--> 261\u001b[0;31m             \u001b[0;32mraise\u001b[0m \u001b[0mNewsAPIException\u001b[0m\u001b[0;34m(\u001b[0m\u001b[0mr\u001b[0m\u001b[0;34m.\u001b[0m\u001b[0mjson\u001b[0m\u001b[0;34m(\u001b[0m\u001b[0;34m)\u001b[0m\u001b[0;34m)\u001b[0m\u001b[0;34m\u001b[0m\u001b[0;34m\u001b[0m\u001b[0m\n\u001b[0m\u001b[1;32m    262\u001b[0m \u001b[0;34m\u001b[0m\u001b[0m\n\u001b[1;32m    263\u001b[0m         \u001b[0;32mreturn\u001b[0m \u001b[0mr\u001b[0m\u001b[0;34m.\u001b[0m\u001b[0mjson\u001b[0m\u001b[0;34m(\u001b[0m\u001b[0;34m)\u001b[0m\u001b[0;34m\u001b[0m\u001b[0;34m\u001b[0m\u001b[0m\n",
      "\u001b[0;31mNewsAPIException\u001b[0m: {'status': 'error', 'code': 'rateLimited', 'message': 'You have made too many requests recently. Developer accounts are limited to 100 requests over a 24 hour period (50 requests available every 12 hours). Please upgrade to a paid plan if you need more requests.'}"
     ]
    }
   ],
   "source": [
    "# Fetch news about Dogecoin in the English language\n",
    "dogecoin_news_en = newsapi.get_everything(\n",
    "    q=\"dogecoin\",\n",
    "    language=\"en\",\n",
    "    from_param = \"2020-01-01\",\n",
    "    to = \"2020-12-12\"\n",
    ")\n",
    "\n",
    "# Show the total number of news\n",
    "dogecoin_news_en[\"totalResults\"]"
   ]
  },
  {
   "cell_type": "markdown",
   "id": "d2ea4d71-c8b3-4466-8179-a5eae8042e4a",
   "metadata": {},
   "source": [
    "### Create a DataFrame with All the Results"
   ]
  },
  {
   "cell_type": "code",
   "execution_count": null,
   "id": "8f3489ee-1b7e-4459-806f-13ebe76dd122",
   "metadata": {},
   "outputs": [],
   "source": [
    "# Function to create a dataframe for dogecoin english news\n",
    "def create_df(news, language):\n",
    "    articles = []\n",
    "    for article in news:\n",
    "        try:\n",
    "            title = article[\"title\"]\n",
    "            description = article[\"description\"]\n",
    "            text = article[\"content\"]\n",
    "            date = article[\"publishedAt\"][:10]\n",
    "\n",
    "            articles.append({\n",
    "                \"title\": title,\n",
    "                \"description\": description,\n",
    "                \"text\": text,\n",
    "                \"date\": date,\n",
    "                \"language\": language\n",
    "            })\n",
    "        except AttributeError:\n",
    "            pass\n",
    "\n",
    "    return pd.DataFrame(articles)"
   ]
  },
  {
   "cell_type": "code",
   "execution_count": null,
   "id": "8003d1f4-4b41-4657-8859-02c0db2a92fb",
   "metadata": {},
   "outputs": [],
   "source": [
    "# Create a DataFrame with the news in English\n",
    "dogecoin_en_df = create_df(dogecoin_news_en[\"articles\"], \"en\")"
   ]
  },
  {
   "cell_type": "code",
   "execution_count": null,
   "id": "f2bbe551-6f68-45c0-b5ba-8ffbf1c03962",
   "metadata": {},
   "outputs": [],
   "source": [
    "# Show the head articles\n",
    "dogecoin_en_df.head()"
   ]
  },
  {
   "cell_type": "markdown",
   "id": "b1510236-2fec-4bf0-bac4-24a1d8e3b4c2",
   "metadata": {},
   "source": [
    "### Save tha final DataFrame as a CSV file for further analysis in the forthcoming activities."
   ]
  },
  {
   "cell_type": "code",
   "execution_count": null,
   "id": "dedc401d-a6d4-4fa0-9781-046dea248217",
   "metadata": {},
   "outputs": [],
   "source": [
    "file_path = Path(\"dogecoin_news_en_.csv\")\n",
    "dogecoin_en_df.to_csv(file_path, index=False, encoding='utf-8-sig')"
   ]
  },
  {
   "cell_type": "code",
   "execution_count": null,
   "id": "9dccc989-2bf0-448e-8bac-01cfda9befa0",
   "metadata": {},
   "outputs": [],
   "source": [
    "#https://github.com/arjunchndr/Bitcoin-Stock-Prediction-Using-Deep-Learning-and-Sentiment-Analysis"
   ]
  },
  {
   "cell_type": "code",
   "execution_count": null,
   "id": "b3e34c7c-aa02-46b6-87ea-831312b7738b",
   "metadata": {},
   "outputs": [],
   "source": [
    "#https://github.com/arpit0891/Stock-price-predection-using-LSTM-and-Sentiment-analysis/blob/main/stock_sentiment_with_limits.ipynb"
   ]
  },
  {
   "cell_type": "code",
   "execution_count": null,
   "id": "2dd54053-769f-421c-a312-d0d8ca3321c6",
   "metadata": {},
   "outputs": [],
   "source": [
    "#https://pythoninvest.com/long-read/sentiment-analysis-of-financial-news"
   ]
  },
  {
   "cell_type": "code",
   "execution_count": null,
   "id": "57fc83e8-22a5-4f4b-a08d-3685cfe7059e",
   "metadata": {},
   "outputs": [],
   "source": [
    "#https://github.com/hiteshgohil96/Effect-of-News-Article-on-Stock-Market-Price"
   ]
  },
  {
   "cell_type": "code",
   "execution_count": null,
   "id": "4fb580ce-7e86-42ec-b7ab-27923cb96cfb",
   "metadata": {},
   "outputs": [],
   "source": [
    "#https://github.com/dineshdaultani/StockPredictions"
   ]
  }
 ],
 "metadata": {
  "kernelspec": {
   "display_name": "Python 3 (ipykernel)",
   "language": "python",
   "name": "python3"
  },
  "language_info": {
   "codemirror_mode": {
    "name": "ipython",
    "version": 3
   },
   "file_extension": ".py",
   "mimetype": "text/x-python",
   "name": "python",
   "nbconvert_exporter": "python",
   "pygments_lexer": "ipython3",
   "version": "3.8.2"
  }
 },
 "nbformat": 4,
 "nbformat_minor": 5
}
