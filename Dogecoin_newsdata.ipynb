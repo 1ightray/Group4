{
 "cells": [
  {
   "cell_type": "markdown",
   "id": "5481b028-a5cc-4e06-846b-9733056615d0",
   "metadata": {},
   "source": [
    "## News Sentiment Analysis and Crypto price prediction of Dogecoin"
   ]
  },
  {
   "cell_type": "code",
   "execution_count": 1,
   "id": "a623f15b-0bd7-48e9-9ed3-ba89227f8f3c",
   "metadata": {},
   "outputs": [],
   "source": [
    "#project description"
   ]
  },
  {
   "cell_type": "code",
   "execution_count": 2,
   "id": "126ccb8a-def9-489d-9922-265b01735b32",
   "metadata": {},
   "outputs": [],
   "source": [
    "## Book 1 : Getting Dogecoin News"
   ]
  },
  {
   "cell_type": "code",
   "execution_count": 3,
   "id": "2d50eb6a-cd58-4407-9d73-c7bb2b4db6aa",
   "metadata": {},
   "outputs": [],
   "source": [
    "# Initial imports\n",
    "import os\n",
    "import pandas as pd\n",
    "from path import Path\n",
    "from dotenv import load_dotenv\n",
    "from newsapi import NewsApiClient"
   ]
  },
  {
   "cell_type": "code",
   "execution_count": 4,
   "id": "d9493168-119b-4c10-9440-ac478b1e4275",
   "metadata": {},
   "outputs": [],
   "source": [
    "# Load environment variables and retrieve the News API key\n",
    "load_dotenv()\n",
    "api_key = os.getenv(\"NEWS_API_KEY\")"
   ]
  },
  {
   "cell_type": "code",
   "execution_count": 5,
   "id": "9eafa7bd-fa60-43f2-ab1d-354129a9df45",
   "metadata": {},
   "outputs": [],
   "source": [
    "# Create the newsapi client\n",
    "newsapi = NewsApiClient(api_key=api_key)"
   ]
  },
  {
   "cell_type": "markdown",
   "id": "0c945ad9-130e-4961-9406-c915f05b276b",
   "metadata": {},
   "source": [
    "### Getting News Articles of Dogecoin in English"
   ]
  },
  {
   "cell_type": "code",
   "execution_count": 6,
   "id": "27c9c2ac-f214-4ea1-bc37-3e4012c23990",
   "metadata": {},
   "outputs": [
    {
     "data": {
      "text/plain": [
       "546"
      ]
     },
     "execution_count": 6,
     "metadata": {},
     "output_type": "execute_result"
    }
   ],
   "source": [
    "# Fetch news about Dogecoin in the English language\n",
    "dogecoin_news_en = newsapi.get_everything(\n",
    "    q=\"dogecoin\",\n",
    "    language=\"en\",\n",
    "    page_size = 100\n",
    "    #from_param = \"2020-01-01\",\n",
    "    #to = \"2020-12-12\"\n",
    ")\n",
    "\n",
    "# Show the total number of news\n",
    "dogecoin_news_en[\"totalResults\"]"
   ]
  },
  {
   "cell_type": "markdown",
   "id": "d2ea4d71-c8b3-4466-8179-a5eae8042e4a",
   "metadata": {},
   "source": [
    "### Create a DataFrame with All the Results"
   ]
  },
  {
   "cell_type": "code",
   "execution_count": 7,
   "id": "8f3489ee-1b7e-4459-806f-13ebe76dd122",
   "metadata": {},
   "outputs": [],
   "source": [
    "# Function to create a dataframe for dogecoin english news\n",
    "def create_df(news, language):\n",
    "    articles = []\n",
    "    for article in news:\n",
    "        try:\n",
    "            title = article[\"title\"]\n",
    "            description = article[\"description\"]\n",
    "            text = article[\"content\"]\n",
    "            date = article[\"publishedAt\"][:10]\n",
    "\n",
    "            articles.append({\n",
    "                \"title\": title,\n",
    "                \"description\": description,\n",
    "                \"text\": text,\n",
    "                \"date\": date,\n",
    "                \"language\": language\n",
    "            })\n",
    "        except AttributeError:\n",
    "            pass\n",
    "\n",
    "    return pd.DataFrame(articles)"
   ]
  },
  {
   "cell_type": "code",
   "execution_count": 8,
   "id": "8003d1f4-4b41-4657-8859-02c0db2a92fb",
   "metadata": {},
   "outputs": [],
   "source": [
    "# Create a DataFrame with the news in English\n",
    "dogecoin_en_df = create_df(dogecoin_news_en[\"articles\"], \"en\")"
   ]
  },
  {
   "cell_type": "code",
   "execution_count": 9,
   "id": "f2bbe551-6f68-45c0-b5ba-8ffbf1c03962",
   "metadata": {},
   "outputs": [
    {
     "data": {
      "text/html": [
       "<div>\n",
       "<style scoped>\n",
       "    .dataframe tbody tr th:only-of-type {\n",
       "        vertical-align: middle;\n",
       "    }\n",
       "\n",
       "    .dataframe tbody tr th {\n",
       "        vertical-align: top;\n",
       "    }\n",
       "\n",
       "    .dataframe thead th {\n",
       "        text-align: right;\n",
       "    }\n",
       "</style>\n",
       "<table border=\"1\" class=\"dataframe\">\n",
       "  <thead>\n",
       "    <tr style=\"text-align: right;\">\n",
       "      <th></th>\n",
       "      <th>title</th>\n",
       "      <th>description</th>\n",
       "      <th>text</th>\n",
       "      <th>date</th>\n",
       "      <th>language</th>\n",
       "    </tr>\n",
       "  </thead>\n",
       "  <tbody>\n",
       "    <tr>\n",
       "      <th>0</th>\n",
       "      <td>Key dogecoin developer Ross Nicoll is stepping...</td>\n",
       "      <td>\"I'm handing over everything I can to the Doge...</td>\n",
       "      <td>Ross Nicoll, one of the primary developers beh...</td>\n",
       "      <td>2022-02-17</td>\n",
       "      <td>en</td>\n",
       "    </tr>\n",
       "    <tr>\n",
       "      <th>1</th>\n",
       "      <td>Shiba inu rallies 50% to a new 2022 high as me...</td>\n",
       "      <td>Other meme coins from dogecoin to floki inu al...</td>\n",
       "      <td>The dogecoin-inspired cryptocurrency shiba inu...</td>\n",
       "      <td>2022-02-07</td>\n",
       "      <td>en</td>\n",
       "    </tr>\n",
       "    <tr>\n",
       "      <th>2</th>\n",
       "      <td>Ukraine is asking for dogecoin donations, pref...</td>\n",
       "      <td>Dogecoin is now worth more than rubles, accord...</td>\n",
       "      <td>Dogecoin is now worth more than rubles, accord...</td>\n",
       "      <td>2022-03-02</td>\n",
       "      <td>en</td>\n",
       "    </tr>\n",
       "    <tr>\n",
       "      <th>3</th>\n",
       "      <td>Bitcoin, Dogecoin, Shiba Inu and other cryptoc...</td>\n",
       "      <td>Far from being a safe bet in risky times, cryp...</td>\n",
       "      <td>Cryptocurrencies around the world are getting ...</td>\n",
       "      <td>2022-02-18</td>\n",
       "      <td>en</td>\n",
       "    </tr>\n",
       "    <tr>\n",
       "      <th>4</th>\n",
       "      <td>Crypto Users Answer Ukraine's Call for Help By...</td>\n",
       "      <td>However, some crypto platforms are refusing to...</td>\n",
       "      <td>As the international community rallies around ...</td>\n",
       "      <td>2022-03-03</td>\n",
       "      <td>en</td>\n",
       "    </tr>\n",
       "  </tbody>\n",
       "</table>\n",
       "</div>"
      ],
      "text/plain": [
       "                                               title  \\\n",
       "0  Key dogecoin developer Ross Nicoll is stepping...   \n",
       "1  Shiba inu rallies 50% to a new 2022 high as me...   \n",
       "2  Ukraine is asking for dogecoin donations, pref...   \n",
       "3  Bitcoin, Dogecoin, Shiba Inu and other cryptoc...   \n",
       "4  Crypto Users Answer Ukraine's Call for Help By...   \n",
       "\n",
       "                                         description  \\\n",
       "0  \"I'm handing over everything I can to the Doge...   \n",
       "1  Other meme coins from dogecoin to floki inu al...   \n",
       "2  Dogecoin is now worth more than rubles, accord...   \n",
       "3  Far from being a safe bet in risky times, cryp...   \n",
       "4  However, some crypto platforms are refusing to...   \n",
       "\n",
       "                                                text        date language  \n",
       "0  Ross Nicoll, one of the primary developers beh...  2022-02-17       en  \n",
       "1  The dogecoin-inspired cryptocurrency shiba inu...  2022-02-07       en  \n",
       "2  Dogecoin is now worth more than rubles, accord...  2022-03-02       en  \n",
       "3  Cryptocurrencies around the world are getting ...  2022-02-18       en  \n",
       "4  As the international community rallies around ...  2022-03-03       en  "
      ]
     },
     "execution_count": 9,
     "metadata": {},
     "output_type": "execute_result"
    }
   ],
   "source": [
    "# Show the head articles\n",
    "dogecoin_en_df.head()"
   ]
  },
  {
   "cell_type": "markdown",
   "id": "b1510236-2fec-4bf0-bac4-24a1d8e3b4c2",
   "metadata": {},
   "source": [
    "### Save tha final DataFrame as a CSV file for further analysis in the forthcoming activities."
   ]
  },
  {
   "cell_type": "code",
   "execution_count": 10,
   "id": "dedc401d-a6d4-4fa0-9781-046dea248217",
   "metadata": {},
   "outputs": [],
   "source": [
    "file_path = Path(\"dogecoin_news_en_.csv\")\n",
    "dogecoin_en_df.to_csv(file_path, index=False, encoding='utf-8-sig')"
   ]
  },
  {
   "cell_type": "code",
   "execution_count": null,
   "id": "443dff9f-d9e1-4470-ad96-dba4340c2a6e",
   "metadata": {},
   "outputs": [],
   "source": [
    "#newyork times API, guardian API, yahoo news API"
   ]
  },
  {
   "cell_type": "code",
   "execution_count": 11,
   "id": "9dccc989-2bf0-448e-8bac-01cfda9befa0",
   "metadata": {},
   "outputs": [],
   "source": [
    "#https://github.com/arjunchndr/Bitcoin-Stock-Prediction-Using-Deep-Learning-and-Sentiment-Analysis"
   ]
  },
  {
   "cell_type": "code",
   "execution_count": 12,
   "id": "b3e34c7c-aa02-46b6-87ea-831312b7738b",
   "metadata": {},
   "outputs": [],
   "source": [
    "#https://github.com/arpit0891/Stock-price-predection-using-LSTM-and-Sentiment-analysis/blob/main/stock_sentiment_with_limits.ipynb"
   ]
  },
  {
   "cell_type": "code",
   "execution_count": 13,
   "id": "2dd54053-769f-421c-a312-d0d8ca3321c6",
   "metadata": {},
   "outputs": [],
   "source": [
    "#https://pythoninvest.com/long-read/sentiment-analysis-of-financial-news"
   ]
  },
  {
   "cell_type": "code",
   "execution_count": 14,
   "id": "57fc83e8-22a5-4f4b-a08d-3685cfe7059e",
   "metadata": {},
   "outputs": [],
   "source": [
    "#https://github.com/hiteshgohil96/Effect-of-News-Article-on-Stock-Market-Price"
   ]
  },
  {
   "cell_type": "code",
   "execution_count": 15,
   "id": "4fb580ce-7e86-42ec-b7ab-27923cb96cfb",
   "metadata": {},
   "outputs": [],
   "source": [
    "#https://github.com/dineshdaultani/StockPredictions"
   ]
  }
 ],
 "metadata": {
  "kernelspec": {
   "display_name": "Python 3 (ipykernel)",
   "language": "python",
   "name": "python3"
  },
  "language_info": {
   "codemirror_mode": {
    "name": "ipython",
    "version": 3
   },
   "file_extension": ".py",
   "mimetype": "text/x-python",
   "name": "python",
   "nbconvert_exporter": "python",
   "pygments_lexer": "ipython3",
   "version": "3.8.2"
  }
 },
 "nbformat": 4,
 "nbformat_minor": 5
}
