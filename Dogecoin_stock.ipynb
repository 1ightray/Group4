{
 "cells": [
  {
   "cell_type": "markdown",
   "id": "d0ebdc10-211e-4eea-9aad-665675722533",
   "metadata": {},
   "source": [
    "## News Sentiment Analysis and Crypto price prediction of Dogecoin"
   ]
  },
  {
   "cell_type": "code",
   "execution_count": null,
   "id": "d12a745f-77b4-4aa3-b7cd-7659ea511f71",
   "metadata": {},
   "outputs": [],
   "source": []
  },
  {
   "cell_type": "code",
   "execution_count": null,
   "id": "eda24c11-e5a6-45f8-9f01-bba736e011e0",
   "metadata": {},
   "outputs": [],
   "source": []
  },
  {
   "cell_type": "code",
   "execution_count": null,
   "id": "9736a051-7e22-4896-bd74-20abedd0c8ac",
   "metadata": {},
   "outputs": [],
   "source": []
  },
  {
   "cell_type": "code",
   "execution_count": null,
   "id": "c29e346c-d8b9-4f52-b27d-2f6825c1b90c",
   "metadata": {},
   "outputs": [],
   "source": []
  },
  {
   "cell_type": "code",
   "execution_count": null,
   "id": "a53277ea-522f-4f4a-8f28-b5453720e03b",
   "metadata": {},
   "outputs": [],
   "source": []
  },
  {
   "cell_type": "code",
   "execution_count": null,
   "id": "11935f45-9c00-4980-8c09-5154a3f5f93c",
   "metadata": {},
   "outputs": [],
   "source": []
  },
  {
   "cell_type": "code",
   "execution_count": null,
   "id": "a7dbb13d-9432-4e9c-bad1-e8cb237267e6",
   "metadata": {},
   "outputs": [],
   "source": []
  },
  {
   "cell_type": "code",
   "execution_count": null,
   "id": "e82b709d-0490-4fcb-81d7-dc2ddbfb3300",
   "metadata": {},
   "outputs": [],
   "source": []
  },
  {
   "cell_type": "code",
   "execution_count": null,
   "id": "61be536c-1faa-4900-9849-1b774b7a42ca",
   "metadata": {},
   "outputs": [],
   "source": []
  },
  {
   "cell_type": "code",
   "execution_count": null,
   "id": "72aabfba-6dd7-4eca-9478-b0e3d89ee10e",
   "metadata": {},
   "outputs": [],
   "source": []
  }
 ],
 "metadata": {
  "kernelspec": {
   "display_name": "Python 3 (ipykernel)",
   "language": "python",
   "name": "python3"
  },
  "language_info": {
   "codemirror_mode": {
    "name": "ipython",
    "version": 3
   },
   "file_extension": ".py",
   "mimetype": "text/x-python",
   "name": "python",
   "nbconvert_exporter": "python",
   "pygments_lexer": "ipython3",
   "version": "3.8.2"
  }
 },
 "nbformat": 4,
 "nbformat_minor": 5
}
