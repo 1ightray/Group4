{
 "cells": [
  {
   "cell_type": "markdown",
   "metadata": {},
   "source": [
    "# Group 4: Random Forest Model and Evaluation"
   ]
  },
  {
   "cell_type": "code",
   "execution_count": 33,
   "metadata": {},
   "outputs": [],
   "source": [
    "# Initial imports\n",
    "import pandas as pd\n",
    "from pathlib import Path\n",
    "from sklearn.ensemble import RandomForestClassifier\n",
    "from sklearn.preprocessing import StandardScaler\n",
    "from sklearn.model_selection import train_test_split\n",
    "from sklearn.metrics import confusion_matrix, accuracy_score, classification_report\n",
    "%matplotlib inline\n",
    "\n",
    "# Needed for decision tree visualization\n",
    "import pydotplus\n",
    "from IPython.display import Image\n"
   ]
  },
  {
   "cell_type": "markdown",
   "metadata": {},
   "source": [
    "## Loading and Preprocessing Loans Encoded Data"
   ]
  },
  {
   "cell_type": "code",
   "execution_count": 34,
   "metadata": {},
   "outputs": [
    {
     "data": {
      "text/html": [
       "<div>\n",
       "<style scoped>\n",
       "    .dataframe tbody tr th:only-of-type {\n",
       "        vertical-align: middle;\n",
       "    }\n",
       "\n",
       "    .dataframe tbody tr th {\n",
       "        vertical-align: top;\n",
       "    }\n",
       "\n",
       "    .dataframe thead th {\n",
       "        text-align: right;\n",
       "    }\n",
       "</style>\n",
       "<table border=\"1\" class=\"dataframe\">\n",
       "  <thead>\n",
       "    <tr style=\"text-align: right;\">\n",
       "      <th></th>\n",
       "      <th>title_compound</th>\n",
       "      <th>Open</th>\n",
       "      <th>High</th>\n",
       "      <th>Low</th>\n",
       "      <th>Close</th>\n",
       "      <th>Adj Close</th>\n",
       "      <th>Volume</th>\n",
       "    </tr>\n",
       "    <tr>\n",
       "      <th>Date</th>\n",
       "      <th></th>\n",
       "      <th></th>\n",
       "      <th></th>\n",
       "      <th></th>\n",
       "      <th></th>\n",
       "      <th></th>\n",
       "      <th></th>\n",
       "    </tr>\n",
       "  </thead>\n",
       "  <tbody>\n",
       "    <tr>\n",
       "      <th>2022-02-04</th>\n",
       "      <td>0.000000</td>\n",
       "      <td>0.137523</td>\n",
       "      <td>0.147592</td>\n",
       "      <td>0.137250</td>\n",
       "      <td>0.147503</td>\n",
       "      <td>0.147503</td>\n",
       "      <td>580740990</td>\n",
       "    </tr>\n",
       "    <tr>\n",
       "      <th>2022-02-05</th>\n",
       "      <td>0.109560</td>\n",
       "      <td>0.147533</td>\n",
       "      <td>0.150140</td>\n",
       "      <td>0.145410</td>\n",
       "      <td>0.147141</td>\n",
       "      <td>0.147141</td>\n",
       "      <td>587009429</td>\n",
       "    </tr>\n",
       "    <tr>\n",
       "      <th>2022-02-06</th>\n",
       "      <td>0.109560</td>\n",
       "      <td>0.147140</td>\n",
       "      <td>0.154775</td>\n",
       "      <td>0.145258</td>\n",
       "      <td>0.153770</td>\n",
       "      <td>0.153770</td>\n",
       "      <td>757004142</td>\n",
       "    </tr>\n",
       "    <tr>\n",
       "      <th>2022-02-07</th>\n",
       "      <td>0.074822</td>\n",
       "      <td>0.153803</td>\n",
       "      <td>0.171586</td>\n",
       "      <td>0.151741</td>\n",
       "      <td>0.165578</td>\n",
       "      <td>0.165578</td>\n",
       "      <td>1791358822</td>\n",
       "    </tr>\n",
       "    <tr>\n",
       "      <th>2022-02-08</th>\n",
       "      <td>0.193133</td>\n",
       "      <td>0.165606</td>\n",
       "      <td>0.169145</td>\n",
       "      <td>0.153709</td>\n",
       "      <td>0.158405</td>\n",
       "      <td>0.158405</td>\n",
       "      <td>1190116000</td>\n",
       "    </tr>\n",
       "  </tbody>\n",
       "</table>\n",
       "</div>"
      ],
      "text/plain": [
       "            title_compound      Open      High       Low     Close  Adj Close  \\\n",
       "Date                                                                            \n",
       "2022-02-04        0.000000  0.137523  0.147592  0.137250  0.147503   0.147503   \n",
       "2022-02-05        0.109560  0.147533  0.150140  0.145410  0.147141   0.147141   \n",
       "2022-02-06        0.109560  0.147140  0.154775  0.145258  0.153770   0.153770   \n",
       "2022-02-07        0.074822  0.153803  0.171586  0.151741  0.165578   0.165578   \n",
       "2022-02-08        0.193133  0.165606  0.169145  0.153709  0.158405   0.158405   \n",
       "\n",
       "                Volume  \n",
       "Date                    \n",
       "2022-02-04   580740990  \n",
       "2022-02-05   587009429  \n",
       "2022-02-06   757004142  \n",
       "2022-02-07  1791358822  \n",
       "2022-02-08  1190116000  "
      ]
     },
     "execution_count": 34,
     "metadata": {},
     "output_type": "execute_result"
    }
   ],
   "source": [
    "# Loading data\n",
    "file_path = Path(\"..\\Group4\\sentiment_closing.csv\")\n",
    "df_sentiment_closing = pd.read_csv('sentiment_closing.csv', index_col=\"Date\", infer_datetime_format=True, parse_dates=True)\n",
    "df_sentiment_closing.head()\n",
    "\n",
    "\n"
   ]
  },
  {
   "cell_type": "code",
   "execution_count": 35,
   "metadata": {},
   "outputs": [
    {
     "data": {
      "text/html": [
       "<div>\n",
       "<style scoped>\n",
       "    .dataframe tbody tr th:only-of-type {\n",
       "        vertical-align: middle;\n",
       "    }\n",
       "\n",
       "    .dataframe tbody tr th {\n",
       "        vertical-align: top;\n",
       "    }\n",
       "\n",
       "    .dataframe thead th {\n",
       "        text-align: right;\n",
       "    }\n",
       "</style>\n",
       "<table border=\"1\" class=\"dataframe\">\n",
       "  <thead>\n",
       "    <tr style=\"text-align: right;\">\n",
       "      <th></th>\n",
       "      <th>Open</th>\n",
       "      <th>High</th>\n",
       "      <th>Low</th>\n",
       "      <th>Close</th>\n",
       "      <th>Adj Close</th>\n",
       "      <th>Volume</th>\n",
       "    </tr>\n",
       "    <tr>\n",
       "      <th>Date</th>\n",
       "      <th></th>\n",
       "      <th></th>\n",
       "      <th></th>\n",
       "      <th></th>\n",
       "      <th></th>\n",
       "      <th></th>\n",
       "    </tr>\n",
       "  </thead>\n",
       "  <tbody>\n",
       "    <tr>\n",
       "      <th>2022-02-04</th>\n",
       "      <td>0.137523</td>\n",
       "      <td>0.147592</td>\n",
       "      <td>0.137250</td>\n",
       "      <td>0.147503</td>\n",
       "      <td>0.147503</td>\n",
       "      <td>580740990</td>\n",
       "    </tr>\n",
       "    <tr>\n",
       "      <th>2022-02-05</th>\n",
       "      <td>0.147533</td>\n",
       "      <td>0.150140</td>\n",
       "      <td>0.145410</td>\n",
       "      <td>0.147141</td>\n",
       "      <td>0.147141</td>\n",
       "      <td>587009429</td>\n",
       "    </tr>\n",
       "    <tr>\n",
       "      <th>2022-02-06</th>\n",
       "      <td>0.147140</td>\n",
       "      <td>0.154775</td>\n",
       "      <td>0.145258</td>\n",
       "      <td>0.153770</td>\n",
       "      <td>0.153770</td>\n",
       "      <td>757004142</td>\n",
       "    </tr>\n",
       "    <tr>\n",
       "      <th>2022-02-07</th>\n",
       "      <td>0.153803</td>\n",
       "      <td>0.171586</td>\n",
       "      <td>0.151741</td>\n",
       "      <td>0.165578</td>\n",
       "      <td>0.165578</td>\n",
       "      <td>1791358822</td>\n",
       "    </tr>\n",
       "    <tr>\n",
       "      <th>2022-02-08</th>\n",
       "      <td>0.165606</td>\n",
       "      <td>0.169145</td>\n",
       "      <td>0.153709</td>\n",
       "      <td>0.158405</td>\n",
       "      <td>0.158405</td>\n",
       "      <td>1190116000</td>\n",
       "    </tr>\n",
       "    <tr>\n",
       "      <th>2022-02-09</th>\n",
       "      <td>0.158357</td>\n",
       "      <td>0.160704</td>\n",
       "      <td>0.155035</td>\n",
       "      <td>0.159123</td>\n",
       "      <td>0.159123</td>\n",
       "      <td>778670798</td>\n",
       "    </tr>\n",
       "    <tr>\n",
       "      <th>2022-02-10</th>\n",
       "      <td>0.159145</td>\n",
       "      <td>0.160437</td>\n",
       "      <td>0.151497</td>\n",
       "      <td>0.151889</td>\n",
       "      <td>0.151889</td>\n",
       "      <td>1053630584</td>\n",
       "    </tr>\n",
       "    <tr>\n",
       "      <th>2022-02-11</th>\n",
       "      <td>0.151895</td>\n",
       "      <td>0.154069</td>\n",
       "      <td>0.143349</td>\n",
       "      <td>0.144847</td>\n",
       "      <td>0.144847</td>\n",
       "      <td>776730555</td>\n",
       "    </tr>\n",
       "    <tr>\n",
       "      <th>2022-02-12</th>\n",
       "      <td>0.144856</td>\n",
       "      <td>0.147013</td>\n",
       "      <td>0.141678</td>\n",
       "      <td>0.144405</td>\n",
       "      <td>0.144405</td>\n",
       "      <td>602699408</td>\n",
       "    </tr>\n",
       "    <tr>\n",
       "      <th>2022-02-13</th>\n",
       "      <td>0.144379</td>\n",
       "      <td>0.157354</td>\n",
       "      <td>0.144031</td>\n",
       "      <td>0.148948</td>\n",
       "      <td>0.148948</td>\n",
       "      <td>1581065491</td>\n",
       "    </tr>\n",
       "    <tr>\n",
       "      <th>2022-02-14</th>\n",
       "      <td>0.148869</td>\n",
       "      <td>0.150132</td>\n",
       "      <td>0.143649</td>\n",
       "      <td>0.146003</td>\n",
       "      <td>0.146003</td>\n",
       "      <td>898042727</td>\n",
       "    </tr>\n",
       "    <tr>\n",
       "      <th>2022-02-15</th>\n",
       "      <td>0.145996</td>\n",
       "      <td>0.152199</td>\n",
       "      <td>0.145203</td>\n",
       "      <td>0.151761</td>\n",
       "      <td>0.151761</td>\n",
       "      <td>674961496</td>\n",
       "    </tr>\n",
       "    <tr>\n",
       "      <th>2022-02-16</th>\n",
       "      <td>0.151779</td>\n",
       "      <td>0.151824</td>\n",
       "      <td>0.146771</td>\n",
       "      <td>0.149095</td>\n",
       "      <td>0.149095</td>\n",
       "      <td>505588732</td>\n",
       "    </tr>\n",
       "    <tr>\n",
       "      <th>2022-02-17</th>\n",
       "      <td>0.149050</td>\n",
       "      <td>0.149889</td>\n",
       "      <td>0.138071</td>\n",
       "      <td>0.138552</td>\n",
       "      <td>0.138552</td>\n",
       "      <td>721382126</td>\n",
       "    </tr>\n",
       "    <tr>\n",
       "      <th>2022-02-18</th>\n",
       "      <td>0.138594</td>\n",
       "      <td>0.142097</td>\n",
       "      <td>0.136960</td>\n",
       "      <td>0.138768</td>\n",
       "      <td>0.138768</td>\n",
       "      <td>563817289</td>\n",
       "    </tr>\n",
       "    <tr>\n",
       "      <th>2022-02-19</th>\n",
       "      <td>0.138764</td>\n",
       "      <td>0.145906</td>\n",
       "      <td>0.138751</td>\n",
       "      <td>0.141206</td>\n",
       "      <td>0.141206</td>\n",
       "      <td>655782652</td>\n",
       "    </tr>\n",
       "    <tr>\n",
       "      <th>2022-02-20</th>\n",
       "      <td>0.141197</td>\n",
       "      <td>0.141197</td>\n",
       "      <td>0.135852</td>\n",
       "      <td>0.136868</td>\n",
       "      <td>0.136868</td>\n",
       "      <td>490138547</td>\n",
       "    </tr>\n",
       "    <tr>\n",
       "      <th>2022-02-21</th>\n",
       "      <td>0.136838</td>\n",
       "      <td>0.141345</td>\n",
       "      <td>0.128246</td>\n",
       "      <td>0.128490</td>\n",
       "      <td>0.128490</td>\n",
       "      <td>913773124</td>\n",
       "    </tr>\n",
       "    <tr>\n",
       "      <th>2022-02-22</th>\n",
       "      <td>0.128488</td>\n",
       "      <td>0.131696</td>\n",
       "      <td>0.125365</td>\n",
       "      <td>0.131553</td>\n",
       "      <td>0.131553</td>\n",
       "      <td>711967119</td>\n",
       "    </tr>\n",
       "    <tr>\n",
       "      <th>2022-02-23</th>\n",
       "      <td>0.131561</td>\n",
       "      <td>0.135337</td>\n",
       "      <td>0.127846</td>\n",
       "      <td>0.127846</td>\n",
       "      <td>0.127846</td>\n",
       "      <td>587472906</td>\n",
       "    </tr>\n",
       "    <tr>\n",
       "      <th>2022-02-24</th>\n",
       "      <td>0.127821</td>\n",
       "      <td>0.127851</td>\n",
       "      <td>0.109555</td>\n",
       "      <td>0.123813</td>\n",
       "      <td>0.123813</td>\n",
       "      <td>2046477370</td>\n",
       "    </tr>\n",
       "    <tr>\n",
       "      <th>2022-02-25</th>\n",
       "      <td>0.123843</td>\n",
       "      <td>0.128181</td>\n",
       "      <td>0.120983</td>\n",
       "      <td>0.127576</td>\n",
       "      <td>0.127576</td>\n",
       "      <td>805161073</td>\n",
       "    </tr>\n",
       "    <tr>\n",
       "      <th>2022-02-26</th>\n",
       "      <td>0.127568</td>\n",
       "      <td>0.130071</td>\n",
       "      <td>0.126199</td>\n",
       "      <td>0.127647</td>\n",
       "      <td>0.127647</td>\n",
       "      <td>535575654</td>\n",
       "    </tr>\n",
       "    <tr>\n",
       "      <th>2022-02-27</th>\n",
       "      <td>0.127639</td>\n",
       "      <td>0.128235</td>\n",
       "      <td>0.122053</td>\n",
       "      <td>0.123111</td>\n",
       "      <td>0.123111</td>\n",
       "      <td>592809151</td>\n",
       "    </tr>\n",
       "    <tr>\n",
       "      <th>2022-02-28</th>\n",
       "      <td>0.123118</td>\n",
       "      <td>0.134479</td>\n",
       "      <td>0.121954</td>\n",
       "      <td>0.133156</td>\n",
       "      <td>0.133156</td>\n",
       "      <td>765755924</td>\n",
       "    </tr>\n",
       "    <tr>\n",
       "      <th>2022-03-01</th>\n",
       "      <td>0.133174</td>\n",
       "      <td>0.137730</td>\n",
       "      <td>0.130462</td>\n",
       "      <td>0.133938</td>\n",
       "      <td>0.133938</td>\n",
       "      <td>876604512</td>\n",
       "    </tr>\n",
       "    <tr>\n",
       "      <th>2022-03-02</th>\n",
       "      <td>0.133964</td>\n",
       "      <td>0.136214</td>\n",
       "      <td>0.131232</td>\n",
       "      <td>0.132990</td>\n",
       "      <td>0.132990</td>\n",
       "      <td>709536320</td>\n",
       "    </tr>\n",
       "    <tr>\n",
       "      <th>2022-03-03</th>\n",
       "      <td>0.132998</td>\n",
       "      <td>0.133649</td>\n",
       "      <td>0.127810</td>\n",
       "      <td>0.129610</td>\n",
       "      <td>0.129610</td>\n",
       "      <td>518193386</td>\n",
       "    </tr>\n",
       "    <tr>\n",
       "      <th>2022-03-04</th>\n",
       "      <td>0.129631</td>\n",
       "      <td>0.129856</td>\n",
       "      <td>0.121544</td>\n",
       "      <td>0.122591</td>\n",
       "      <td>0.122591</td>\n",
       "      <td>650665594</td>\n",
       "    </tr>\n",
       "  </tbody>\n",
       "</table>\n",
       "</div>"
      ],
      "text/plain": [
       "                Open      High       Low     Close  Adj Close      Volume\n",
       "Date                                                                     \n",
       "2022-02-04  0.137523  0.147592  0.137250  0.147503   0.147503   580740990\n",
       "2022-02-05  0.147533  0.150140  0.145410  0.147141   0.147141   587009429\n",
       "2022-02-06  0.147140  0.154775  0.145258  0.153770   0.153770   757004142\n",
       "2022-02-07  0.153803  0.171586  0.151741  0.165578   0.165578  1791358822\n",
       "2022-02-08  0.165606  0.169145  0.153709  0.158405   0.158405  1190116000\n",
       "2022-02-09  0.158357  0.160704  0.155035  0.159123   0.159123   778670798\n",
       "2022-02-10  0.159145  0.160437  0.151497  0.151889   0.151889  1053630584\n",
       "2022-02-11  0.151895  0.154069  0.143349  0.144847   0.144847   776730555\n",
       "2022-02-12  0.144856  0.147013  0.141678  0.144405   0.144405   602699408\n",
       "2022-02-13  0.144379  0.157354  0.144031  0.148948   0.148948  1581065491\n",
       "2022-02-14  0.148869  0.150132  0.143649  0.146003   0.146003   898042727\n",
       "2022-02-15  0.145996  0.152199  0.145203  0.151761   0.151761   674961496\n",
       "2022-02-16  0.151779  0.151824  0.146771  0.149095   0.149095   505588732\n",
       "2022-02-17  0.149050  0.149889  0.138071  0.138552   0.138552   721382126\n",
       "2022-02-18  0.138594  0.142097  0.136960  0.138768   0.138768   563817289\n",
       "2022-02-19  0.138764  0.145906  0.138751  0.141206   0.141206   655782652\n",
       "2022-02-20  0.141197  0.141197  0.135852  0.136868   0.136868   490138547\n",
       "2022-02-21  0.136838  0.141345  0.128246  0.128490   0.128490   913773124\n",
       "2022-02-22  0.128488  0.131696  0.125365  0.131553   0.131553   711967119\n",
       "2022-02-23  0.131561  0.135337  0.127846  0.127846   0.127846   587472906\n",
       "2022-02-24  0.127821  0.127851  0.109555  0.123813   0.123813  2046477370\n",
       "2022-02-25  0.123843  0.128181  0.120983  0.127576   0.127576   805161073\n",
       "2022-02-26  0.127568  0.130071  0.126199  0.127647   0.127647   535575654\n",
       "2022-02-27  0.127639  0.128235  0.122053  0.123111   0.123111   592809151\n",
       "2022-02-28  0.123118  0.134479  0.121954  0.133156   0.133156   765755924\n",
       "2022-03-01  0.133174  0.137730  0.130462  0.133938   0.133938   876604512\n",
       "2022-03-02  0.133964  0.136214  0.131232  0.132990   0.132990   709536320\n",
       "2022-03-03  0.132998  0.133649  0.127810  0.129610   0.129610   518193386\n",
       "2022-03-04  0.129631  0.129856  0.121544  0.122591   0.122591   650665594"
      ]
     },
     "execution_count": 35,
     "metadata": {},
     "output_type": "execute_result"
    }
   ],
   "source": [
    "# Define features set\n",
    "X = df_sentiment_closing.copy()\n",
    "X.drop(\"title_compound\", axis=1, inplace=True)\n",
    "X.head(50)\n",
    "\n"
   ]
  },
  {
   "cell_type": "code",
   "execution_count": 36,
   "metadata": {},
   "outputs": [
    {
     "data": {
      "text/plain": [
       "array([[0.        ],\n",
       "       [0.10956   ],\n",
       "       [0.10956   ],\n",
       "       [0.07482222],\n",
       "       [0.19313333]])"
      ]
     },
     "execution_count": 36,
     "metadata": {},
     "output_type": "execute_result"
    }
   ],
   "source": [
    "# Define target vector\n",
    "# y = df_sentiment_closing[\"title_compound\"].ravel()\n",
    "# y = df_sentiment_closing[\"title_compound\"]\n",
    "y = df_sentiment_closing[\"title_compound\"].values.reshape(-1,1)\n",
    "y[:5]\n",
    "\n"
   ]
  },
  {
   "cell_type": "code",
   "execution_count": 37,
   "metadata": {},
   "outputs": [],
   "source": [
    "# Splitting into Train and Test sets\n",
    "X_train, X_test, y_train, y_test = train_test_split(X, y, random_state=78)\n",
    "\n"
   ]
  },
  {
   "cell_type": "code",
   "execution_count": 38,
   "metadata": {},
   "outputs": [],
   "source": [
    "# Creating StandardScaler instance\n",
    "scaler = StandardScaler()\n",
    "\n"
   ]
  },
  {
   "cell_type": "code",
   "execution_count": 39,
   "metadata": {},
   "outputs": [],
   "source": [
    "# Fitting Standard Scaller\n",
    "X_scaler = scaler.fit(X_train)\n",
    "\n"
   ]
  },
  {
   "cell_type": "code",
   "execution_count": 40,
   "metadata": {},
   "outputs": [],
   "source": [
    "# Scaling data\n",
    "X_train_scaled = X_scaler.transform(X_train)\n",
    "X_test_scaled = X_scaler.transform(X_test)\n"
   ]
  },
  {
   "cell_type": "code",
   "execution_count": 41,
   "metadata": {},
   "outputs": [
    {
     "data": {
      "text/plain": [
       "Open        -0.0\n",
       "High        -0.0\n",
       "Low         -0.0\n",
       "Close        0.0\n",
       "Adj Close    0.0\n",
       "Volume      -0.0\n",
       "dtype: float64"
      ]
     },
     "execution_count": 41,
     "metadata": {},
     "output_type": "execute_result"
    }
   ],
   "source": [
    "# Confirm scaled values...for fun\n",
    "df_X_train_scaled = pd.DataFrame(X_train_scaled, columns=X.columns)\n",
    "round(df_X_train_scaled.mean(), 0)\n"
   ]
  },
  {
   "cell_type": "code",
   "execution_count": 42,
   "metadata": {},
   "outputs": [
    {
     "data": {
      "text/plain": [
       "Open         1.0\n",
       "High         1.0\n",
       "Low          1.0\n",
       "Close        1.0\n",
       "Adj Close    1.0\n",
       "Volume       1.0\n",
       "dtype: float64"
      ]
     },
     "execution_count": 42,
     "metadata": {},
     "output_type": "execute_result"
    }
   ],
   "source": [
    "round(df_X_train_scaled.std(), 0)\n"
   ]
  },
  {
   "cell_type": "markdown",
   "metadata": {},
   "source": [
    "## Fitting the Random Forest Model"
   ]
  },
  {
   "cell_type": "code",
   "execution_count": 43,
   "metadata": {},
   "outputs": [],
   "source": [
    "# Create a random forest classifier\n",
    "rf_model = RandomForestClassifier(n_estimators=500, random_state=78)\n",
    "\n"
   ]
  },
  {
   "cell_type": "markdown",
   "metadata": {},
   "source": [
    "Once the random forest model is created, it is fitted with the training data."
   ]
  },
  {
   "cell_type": "code",
   "execution_count": 45,
   "metadata": {},
   "outputs": [
    {
     "name": "stderr",
     "output_type": "stream",
     "text": [
      "C:\\Users\\Queenbee\\AppData\\Local\\Temp/ipykernel_15648/3885632750.py:2: DataConversionWarning: A column-vector y was passed when a 1d array was expected. Please change the shape of y to (n_samples,), for example using ravel().\n",
      "  rf_model = rf_model.fit(X_train_scaled, y_train)\n"
     ]
    },
    {
     "ename": "ValueError",
     "evalue": "Unknown label type: 'continuous'",
     "output_type": "error",
     "traceback": [
      "\u001b[1;31m---------------------------------------------------------------------------\u001b[0m",
      "\u001b[1;31mValueError\u001b[0m                                Traceback (most recent call last)",
      "\u001b[1;32m~\\AppData\\Local\\Temp/ipykernel_15648/3885632750.py\u001b[0m in \u001b[0;36m<module>\u001b[1;34m\u001b[0m\n\u001b[0;32m      1\u001b[0m \u001b[1;31m# Fitting the model\u001b[0m\u001b[1;33m\u001b[0m\u001b[1;33m\u001b[0m\u001b[1;33m\u001b[0m\u001b[0m\n\u001b[1;32m----> 2\u001b[1;33m \u001b[0mrf_model\u001b[0m \u001b[1;33m=\u001b[0m \u001b[0mrf_model\u001b[0m\u001b[1;33m.\u001b[0m\u001b[0mfit\u001b[0m\u001b[1;33m(\u001b[0m\u001b[0mX_train_scaled\u001b[0m\u001b[1;33m,\u001b[0m \u001b[0my_train\u001b[0m\u001b[1;33m)\u001b[0m\u001b[1;33m\u001b[0m\u001b[1;33m\u001b[0m\u001b[0m\n\u001b[0m",
      "\u001b[1;32m~\\anaconda3\\lib\\site-packages\\sklearn\\ensemble\\_forest.py\u001b[0m in \u001b[0;36mfit\u001b[1;34m(self, X, y, sample_weight)\u001b[0m\n\u001b[0;32m    365\u001b[0m         \u001b[0mself\u001b[0m\u001b[1;33m.\u001b[0m\u001b[0mn_outputs_\u001b[0m \u001b[1;33m=\u001b[0m \u001b[0my\u001b[0m\u001b[1;33m.\u001b[0m\u001b[0mshape\u001b[0m\u001b[1;33m[\u001b[0m\u001b[1;36m1\u001b[0m\u001b[1;33m]\u001b[0m\u001b[1;33m\u001b[0m\u001b[1;33m\u001b[0m\u001b[0m\n\u001b[0;32m    366\u001b[0m \u001b[1;33m\u001b[0m\u001b[0m\n\u001b[1;32m--> 367\u001b[1;33m         \u001b[0my\u001b[0m\u001b[1;33m,\u001b[0m \u001b[0mexpanded_class_weight\u001b[0m \u001b[1;33m=\u001b[0m \u001b[0mself\u001b[0m\u001b[1;33m.\u001b[0m\u001b[0m_validate_y_class_weight\u001b[0m\u001b[1;33m(\u001b[0m\u001b[0my\u001b[0m\u001b[1;33m)\u001b[0m\u001b[1;33m\u001b[0m\u001b[1;33m\u001b[0m\u001b[0m\n\u001b[0m\u001b[0;32m    368\u001b[0m \u001b[1;33m\u001b[0m\u001b[0m\n\u001b[0;32m    369\u001b[0m         \u001b[1;32mif\u001b[0m \u001b[0mgetattr\u001b[0m\u001b[1;33m(\u001b[0m\u001b[0my\u001b[0m\u001b[1;33m,\u001b[0m \u001b[1;34m\"dtype\"\u001b[0m\u001b[1;33m,\u001b[0m \u001b[1;32mNone\u001b[0m\u001b[1;33m)\u001b[0m \u001b[1;33m!=\u001b[0m \u001b[0mDOUBLE\u001b[0m \u001b[1;32mor\u001b[0m \u001b[1;32mnot\u001b[0m \u001b[0my\u001b[0m\u001b[1;33m.\u001b[0m\u001b[0mflags\u001b[0m\u001b[1;33m.\u001b[0m\u001b[0mcontiguous\u001b[0m\u001b[1;33m:\u001b[0m\u001b[1;33m\u001b[0m\u001b[1;33m\u001b[0m\u001b[0m\n",
      "\u001b[1;32m~\\anaconda3\\lib\\site-packages\\sklearn\\ensemble\\_forest.py\u001b[0m in \u001b[0;36m_validate_y_class_weight\u001b[1;34m(self, y)\u001b[0m\n\u001b[0;32m    722\u001b[0m \u001b[1;33m\u001b[0m\u001b[0m\n\u001b[0;32m    723\u001b[0m     \u001b[1;32mdef\u001b[0m \u001b[0m_validate_y_class_weight\u001b[0m\u001b[1;33m(\u001b[0m\u001b[0mself\u001b[0m\u001b[1;33m,\u001b[0m \u001b[0my\u001b[0m\u001b[1;33m)\u001b[0m\u001b[1;33m:\u001b[0m\u001b[1;33m\u001b[0m\u001b[1;33m\u001b[0m\u001b[0m\n\u001b[1;32m--> 724\u001b[1;33m         \u001b[0mcheck_classification_targets\u001b[0m\u001b[1;33m(\u001b[0m\u001b[0my\u001b[0m\u001b[1;33m)\u001b[0m\u001b[1;33m\u001b[0m\u001b[1;33m\u001b[0m\u001b[0m\n\u001b[0m\u001b[0;32m    725\u001b[0m \u001b[1;33m\u001b[0m\u001b[0m\n\u001b[0;32m    726\u001b[0m         \u001b[0my\u001b[0m \u001b[1;33m=\u001b[0m \u001b[0mnp\u001b[0m\u001b[1;33m.\u001b[0m\u001b[0mcopy\u001b[0m\u001b[1;33m(\u001b[0m\u001b[0my\u001b[0m\u001b[1;33m)\u001b[0m\u001b[1;33m\u001b[0m\u001b[1;33m\u001b[0m\u001b[0m\n",
      "\u001b[1;32m~\\anaconda3\\lib\\site-packages\\sklearn\\utils\\multiclass.py\u001b[0m in \u001b[0;36mcheck_classification_targets\u001b[1;34m(y)\u001b[0m\n\u001b[0;32m    196\u001b[0m         \u001b[1;34m\"multilabel-sequences\"\u001b[0m\u001b[1;33m,\u001b[0m\u001b[1;33m\u001b[0m\u001b[1;33m\u001b[0m\u001b[0m\n\u001b[0;32m    197\u001b[0m     ]:\n\u001b[1;32m--> 198\u001b[1;33m         \u001b[1;32mraise\u001b[0m \u001b[0mValueError\u001b[0m\u001b[1;33m(\u001b[0m\u001b[1;34m\"Unknown label type: %r\"\u001b[0m \u001b[1;33m%\u001b[0m \u001b[0my_type\u001b[0m\u001b[1;33m)\u001b[0m\u001b[1;33m\u001b[0m\u001b[1;33m\u001b[0m\u001b[0m\n\u001b[0m\u001b[0;32m    199\u001b[0m \u001b[1;33m\u001b[0m\u001b[0m\n\u001b[0;32m    200\u001b[0m \u001b[1;33m\u001b[0m\u001b[0m\n",
      "\u001b[1;31mValueError\u001b[0m: Unknown label type: 'continuous'"
     ]
    }
   ],
   "source": [
    "# Fitting the model\n",
    "rf_model = rf_model.fit(X_train_scaled, y_train)\n"
   ]
  },
  {
   "cell_type": "markdown",
   "metadata": {},
   "source": [
    "## Making Predictions Using the Random Forest Model"
   ]
  },
  {
   "cell_type": "code",
   "execution_count": null,
   "metadata": {},
   "outputs": [],
   "source": [
    "# Making predictions using the testing data\n",
    "predictions = rf_model.predict(X_test_scaled)\n"
   ]
  },
  {
   "cell_type": "markdown",
   "metadata": {},
   "source": [
    "## Model Evaluation"
   ]
  },
  {
   "cell_type": "code",
   "execution_count": null,
   "metadata": {},
   "outputs": [],
   "source": [
    "# Calculating the confusion matrix\n",
    "cm = confusion_matrix(y_test, predictions)\n",
    "cm_df = pd.DataFrame(\n",
    "    cm, index=[\"Actual 0\", \"Actual 1\"], columns=[\"Predicted 0\", \"Predicted 1\"]\n",
    ")\n",
    "\n",
    "# Calculating the accuracy score\n",
    "acc_score = accuracy_score(y_test, predictions)\n",
    "\n"
   ]
  },
  {
   "cell_type": "code",
   "execution_count": null,
   "metadata": {},
   "outputs": [],
   "source": [
    "# Displaying results\n",
    "print(\"Confusion Matrix\")\n",
    "display(cm_df)\n",
    "print(f\"Accuracy Score : {acc_score}\")\n",
    "print(\"Classification Report\")\n",
    "print(classification_report(y_test, predictions))\n"
   ]
  },
  {
   "cell_type": "markdown",
   "metadata": {},
   "source": [
    "## Feature Importance"
   ]
  },
  {
   "cell_type": "code",
   "execution_count": null,
   "metadata": {},
   "outputs": [],
   "source": [
    "# Random Forests in sklearn will automatically calculate feature importance\n",
    "importances = rf_model.feature_importances_\n",
    "\n"
   ]
  },
  {
   "cell_type": "code",
   "execution_count": null,
   "metadata": {},
   "outputs": [],
   "source": [
    "# We can sort the features by their importance\n",
    "sorted(zip(rf_model.feature_importances_, X.columns), reverse=True)\n",
    "\n"
   ]
  },
  {
   "cell_type": "code",
   "execution_count": null,
   "metadata": {},
   "outputs": [],
   "source": [
    "# Visualize the features by importance\n",
    "importances_df = pd.DataFrame(sorted(zip(rf_model.feature_importances_, X.columns), reverse=True))\n",
    "importances_df.set_index(importances_df[1], inplace=True)\n",
    "importances_df.drop(columns=1, inplace=True)\n",
    "importances_df.rename(columns={0: 'Feature Importances'}, inplace=True)\n",
    "importances_sorted = importances_df.sort_values(by='Feature Importances')\n",
    "importances_sorted.plot(kind='barh', color='lightgreen', title= 'Features Importances', legend=False)\n",
    "\n"
   ]
  }
 ],
 "metadata": {
  "file_extension": ".py",
  "kernelspec": {
   "display_name": "Python 3",
   "language": "python",
   "name": "python3"
  },
  "language_info": {
   "codemirror_mode": {
    "name": "ipython",
    "version": 3
   },
   "file_extension": ".py",
   "mimetype": "text/x-python",
   "name": "python",
   "nbconvert_exporter": "python",
   "pygments_lexer": "ipython3",
   "version": "3.8.8"
  },
  "mimetype": "text/x-python",
  "name": "python",
  "npconvert_exporter": "python",
  "pygments_lexer": "ipython3",
  "version": 3
 },
 "nbformat": 4,
 "nbformat_minor": 4
}
